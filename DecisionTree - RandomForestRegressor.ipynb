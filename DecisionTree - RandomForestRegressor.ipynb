{
 "cells": [
  {
   "cell_type": "code",
   "execution_count": 42,
   "metadata": {
    "collapsed": true
   },
   "outputs": [],
   "source": [
    "import pandas as pd\n",
    "import numpy as np\n",
    "from sklearn.model_selection import train_test_split\n",
    "from sklearn.model_selection import GridSearchCV\n",
    "from sklearn.model_selection import KFold\n",
    "from sklearn.ensemble import RandomForestRegressor, GradientBoostingRegressor\n",
    "from sklearn.model_selection import learning_curve\n",
    "from sklearn.tree import DecisionTreeRegressor\n",
    "from sklearn import preprocessing\n",
    "import matplotlib.pyplot as plt\n",
    "%matplotlib inline"
   ]
  },
  {
   "cell_type": "code",
   "execution_count": 89,
   "metadata": {},
   "outputs": [],
   "source": [
    "df = pd.read_csv('data.csv', names=['REs', 'PrNd', 'La', 'Ce', 'Fe', 'Co', 'B', 'TM', 'PrNd_p', 'La_p', 'Ce_p', 'Hcj'])\n",
    "X = df.iloc[:, :10].values\n",
    "y = df['Hcj'].values\n",
    "X_1 = preprocessing.scale(X)\n",
    "y_1 = preprocessing.scale(y)"
   ]
  },
  {
   "cell_type": "code",
   "execution_count": 90,
   "metadata": {},
   "outputs": [
    {
     "name": "stdout",
     "output_type": "stream",
     "text": [
      "The best parameters are {'learning_rate': 0.15000000000000002, 'n_estimators': 100} with a score of 0.86\n",
      "\n",
      "{'learning_rate': 0.15000000000000002, 'n_estimators': 100}\n",
      "\n",
      "Grid scores on development set:\n",
      "\n",
      "0.101 (+/-0.057) for {'learning_rate': 0.01, 'n_estimators': 10}\n",
      "0.202 (+/-0.069) for {'learning_rate': 0.01, 'n_estimators': 20}\n",
      "0.282 (+/-0.079) for {'learning_rate': 0.01, 'n_estimators': 30}\n",
      "0.354 (+/-0.087) for {'learning_rate': 0.01, 'n_estimators': 40}\n",
      "0.416 (+/-0.087) for {'learning_rate': 0.01, 'n_estimators': 50}\n",
      "0.464 (+/-0.098) for {'learning_rate': 0.01, 'n_estimators': 60}\n",
      "0.511 (+/-0.094) for {'learning_rate': 0.01, 'n_estimators': 70}\n",
      "0.547 (+/-0.093) for {'learning_rate': 0.01, 'n_estimators': 80}\n",
      "0.578 (+/-0.090) for {'learning_rate': 0.01, 'n_estimators': 90}\n",
      "0.605 (+/-0.091) for {'learning_rate': 0.01, 'n_estimators': 100}\n",
      "0.629 (+/-0.098) for {'learning_rate': 0.01, 'n_estimators': 110}\n",
      "0.201 (+/-0.074) for {'learning_rate': 0.02, 'n_estimators': 10}\n",
      "0.354 (+/-0.103) for {'learning_rate': 0.02, 'n_estimators': 20}\n",
      "0.463 (+/-0.107) for {'learning_rate': 0.02, 'n_estimators': 30}\n",
      "0.541 (+/-0.096) for {'learning_rate': 0.02, 'n_estimators': 40}\n",
      "0.604 (+/-0.090) for {'learning_rate': 0.02, 'n_estimators': 50}\n",
      "0.649 (+/-0.088) for {'learning_rate': 0.02, 'n_estimators': 60}\n",
      "0.683 (+/-0.090) for {'learning_rate': 0.02, 'n_estimators': 70}\n",
      "0.710 (+/-0.070) for {'learning_rate': 0.02, 'n_estimators': 80}\n",
      "0.731 (+/-0.078) for {'learning_rate': 0.02, 'n_estimators': 90}\n",
      "0.745 (+/-0.074) for {'learning_rate': 0.02, 'n_estimators': 100}\n",
      "0.757 (+/-0.081) for {'learning_rate': 0.02, 'n_estimators': 110}\n",
      "0.281 (+/-0.094) for {'learning_rate': 0.029999999999999999, 'n_estimators': 10}\n",
      "0.462 (+/-0.096) for {'learning_rate': 0.029999999999999999, 'n_estimators': 20}\n",
      "0.581 (+/-0.096) for {'learning_rate': 0.029999999999999999, 'n_estimators': 30}\n",
      "0.652 (+/-0.080) for {'learning_rate': 0.029999999999999999, 'n_estimators': 40}\n",
      "0.697 (+/-0.080) for {'learning_rate': 0.029999999999999999, 'n_estimators': 50}\n",
      "0.727 (+/-0.072) for {'learning_rate': 0.029999999999999999, 'n_estimators': 60}\n",
      "0.753 (+/-0.074) for {'learning_rate': 0.029999999999999999, 'n_estimators': 70}\n",
      "0.768 (+/-0.070) for {'learning_rate': 0.029999999999999999, 'n_estimators': 80}\n",
      "0.786 (+/-0.073) for {'learning_rate': 0.029999999999999999, 'n_estimators': 90}\n",
      "0.788 (+/-0.074) for {'learning_rate': 0.029999999999999999, 'n_estimators': 100}\n",
      "0.798 (+/-0.080) for {'learning_rate': 0.029999999999999999, 'n_estimators': 110}\n",
      "0.355 (+/-0.097) for {'learning_rate': 0.040000000000000001, 'n_estimators': 10}\n",
      "0.538 (+/-0.094) for {'learning_rate': 0.040000000000000001, 'n_estimators': 20}\n",
      "0.655 (+/-0.083) for {'learning_rate': 0.040000000000000001, 'n_estimators': 30}\n",
      "0.710 (+/-0.081) for {'learning_rate': 0.040000000000000001, 'n_estimators': 40}\n",
      "0.747 (+/-0.079) for {'learning_rate': 0.040000000000000001, 'n_estimators': 50}\n",
      "0.773 (+/-0.075) for {'learning_rate': 0.040000000000000001, 'n_estimators': 60}\n",
      "0.786 (+/-0.082) for {'learning_rate': 0.040000000000000001, 'n_estimators': 70}\n",
      "0.796 (+/-0.072) for {'learning_rate': 0.040000000000000001, 'n_estimators': 80}\n",
      "0.804 (+/-0.078) for {'learning_rate': 0.040000000000000001, 'n_estimators': 90}\n",
      "0.806 (+/-0.076) for {'learning_rate': 0.040000000000000001, 'n_estimators': 100}\n",
      "0.817 (+/-0.061) for {'learning_rate': 0.040000000000000001, 'n_estimators': 110}\n",
      "0.418 (+/-0.093) for {'learning_rate': 0.050000000000000003, 'n_estimators': 10}\n",
      "0.611 (+/-0.096) for {'learning_rate': 0.050000000000000003, 'n_estimators': 20}\n",
      "0.695 (+/-0.087) for {'learning_rate': 0.050000000000000003, 'n_estimators': 30}\n",
      "0.748 (+/-0.078) for {'learning_rate': 0.050000000000000003, 'n_estimators': 40}\n",
      "0.773 (+/-0.080) for {'learning_rate': 0.050000000000000003, 'n_estimators': 50}\n",
      "0.791 (+/-0.083) for {'learning_rate': 0.050000000000000003, 'n_estimators': 60}\n",
      "0.803 (+/-0.083) for {'learning_rate': 0.050000000000000003, 'n_estimators': 70}\n",
      "0.813 (+/-0.074) for {'learning_rate': 0.050000000000000003, 'n_estimators': 80}\n",
      "0.820 (+/-0.073) for {'learning_rate': 0.050000000000000003, 'n_estimators': 90}\n",
      "0.820 (+/-0.072) for {'learning_rate': 0.050000000000000003, 'n_estimators': 100}\n",
      "0.831 (+/-0.068) for {'learning_rate': 0.050000000000000003, 'n_estimators': 110}\n",
      "0.469 (+/-0.102) for {'learning_rate': 0.060000000000000005, 'n_estimators': 10}\n",
      "0.646 (+/-0.109) for {'learning_rate': 0.060000000000000005, 'n_estimators': 20}\n",
      "0.723 (+/-0.087) for {'learning_rate': 0.060000000000000005, 'n_estimators': 30}\n",
      "0.772 (+/-0.073) for {'learning_rate': 0.060000000000000005, 'n_estimators': 40}\n",
      "0.794 (+/-0.081) for {'learning_rate': 0.060000000000000005, 'n_estimators': 50}\n",
      "0.802 (+/-0.076) for {'learning_rate': 0.060000000000000005, 'n_estimators': 60}\n",
      "0.815 (+/-0.077) for {'learning_rate': 0.060000000000000005, 'n_estimators': 70}\n",
      "0.822 (+/-0.076) for {'learning_rate': 0.060000000000000005, 'n_estimators': 80}\n",
      "0.821 (+/-0.083) for {'learning_rate': 0.060000000000000005, 'n_estimators': 90}\n",
      "0.830 (+/-0.065) for {'learning_rate': 0.060000000000000005, 'n_estimators': 100}\n",
      "0.836 (+/-0.071) for {'learning_rate': 0.060000000000000005, 'n_estimators': 110}\n",
      "0.508 (+/-0.087) for {'learning_rate': 0.069999999999999993, 'n_estimators': 10}\n",
      "0.684 (+/-0.092) for {'learning_rate': 0.069999999999999993, 'n_estimators': 20}\n",
      "0.756 (+/-0.068) for {'learning_rate': 0.069999999999999993, 'n_estimators': 30}\n",
      "0.788 (+/-0.071) for {'learning_rate': 0.069999999999999993, 'n_estimators': 40}\n",
      "0.796 (+/-0.079) for {'learning_rate': 0.069999999999999993, 'n_estimators': 50}\n",
      "0.824 (+/-0.075) for {'learning_rate': 0.069999999999999993, 'n_estimators': 60}\n",
      "0.821 (+/-0.071) for {'learning_rate': 0.069999999999999993, 'n_estimators': 70}\n",
      "0.824 (+/-0.075) for {'learning_rate': 0.069999999999999993, 'n_estimators': 80}\n",
      "0.830 (+/-0.082) for {'learning_rate': 0.069999999999999993, 'n_estimators': 90}\n",
      "0.839 (+/-0.074) for {'learning_rate': 0.069999999999999993, 'n_estimators': 100}\n",
      "0.841 (+/-0.068) for {'learning_rate': 0.069999999999999993, 'n_estimators': 110}\n",
      "0.550 (+/-0.103) for {'learning_rate': 0.080000000000000002, 'n_estimators': 10}\n",
      "0.712 (+/-0.097) for {'learning_rate': 0.080000000000000002, 'n_estimators': 20}\n",
      "0.775 (+/-0.070) for {'learning_rate': 0.080000000000000002, 'n_estimators': 30}\n",
      "0.786 (+/-0.100) for {'learning_rate': 0.080000000000000002, 'n_estimators': 40}\n",
      "0.810 (+/-0.070) for {'learning_rate': 0.080000000000000002, 'n_estimators': 50}\n",
      "0.823 (+/-0.070) for {'learning_rate': 0.080000000000000002, 'n_estimators': 60}\n",
      "0.832 (+/-0.075) for {'learning_rate': 0.080000000000000002, 'n_estimators': 70}\n",
      "0.834 (+/-0.076) for {'learning_rate': 0.080000000000000002, 'n_estimators': 80}\n",
      "0.834 (+/-0.063) for {'learning_rate': 0.080000000000000002, 'n_estimators': 90}\n",
      "0.844 (+/-0.058) for {'learning_rate': 0.080000000000000002, 'n_estimators': 100}\n",
      "0.844 (+/-0.071) for {'learning_rate': 0.080000000000000002, 'n_estimators': 110}\n",
      "0.592 (+/-0.092) for {'learning_rate': 0.089999999999999997, 'n_estimators': 10}\n",
      "0.729 (+/-0.077) for {'learning_rate': 0.089999999999999997, 'n_estimators': 20}\n",
      "0.782 (+/-0.097) for {'learning_rate': 0.089999999999999997, 'n_estimators': 30}\n",
      "0.806 (+/-0.067) for {'learning_rate': 0.089999999999999997, 'n_estimators': 40}\n",
      "0.808 (+/-0.078) for {'learning_rate': 0.089999999999999997, 'n_estimators': 50}\n",
      "0.829 (+/-0.075) for {'learning_rate': 0.089999999999999997, 'n_estimators': 60}\n",
      "0.832 (+/-0.070) for {'learning_rate': 0.089999999999999997, 'n_estimators': 70}\n",
      "0.837 (+/-0.061) for {'learning_rate': 0.089999999999999997, 'n_estimators': 80}\n",
      "0.836 (+/-0.067) for {'learning_rate': 0.089999999999999997, 'n_estimators': 90}\n",
      "0.835 (+/-0.081) for {'learning_rate': 0.089999999999999997, 'n_estimators': 100}\n",
      "0.850 (+/-0.063) for {'learning_rate': 0.089999999999999997, 'n_estimators': 110}\n",
      "0.620 (+/-0.084) for {'learning_rate': 0.099999999999999992, 'n_estimators': 10}\n",
      "0.743 (+/-0.083) for {'learning_rate': 0.099999999999999992, 'n_estimators': 20}\n",
      "0.787 (+/-0.078) for {'learning_rate': 0.099999999999999992, 'n_estimators': 30}\n",
      "0.812 (+/-0.065) for {'learning_rate': 0.099999999999999992, 'n_estimators': 40}\n",
      "0.822 (+/-0.076) for {'learning_rate': 0.099999999999999992, 'n_estimators': 50}\n",
      "0.826 (+/-0.072) for {'learning_rate': 0.099999999999999992, 'n_estimators': 60}\n",
      "0.831 (+/-0.079) for {'learning_rate': 0.099999999999999992, 'n_estimators': 70}\n",
      "0.837 (+/-0.069) for {'learning_rate': 0.099999999999999992, 'n_estimators': 80}\n",
      "0.849 (+/-0.069) for {'learning_rate': 0.099999999999999992, 'n_estimators': 90}\n",
      "0.841 (+/-0.067) for {'learning_rate': 0.099999999999999992, 'n_estimators': 100}\n",
      "0.846 (+/-0.064) for {'learning_rate': 0.099999999999999992, 'n_estimators': 110}\n",
      "0.642 (+/-0.081) for {'learning_rate': 0.11, 'n_estimators': 10}\n",
      "0.760 (+/-0.055) for {'learning_rate': 0.11, 'n_estimators': 20}\n",
      "0.806 (+/-0.074) for {'learning_rate': 0.11, 'n_estimators': 30}\n",
      "0.818 (+/-0.069) for {'learning_rate': 0.11, 'n_estimators': 40}\n",
      "0.827 (+/-0.077) for {'learning_rate': 0.11, 'n_estimators': 50}\n",
      "0.832 (+/-0.066) for {'learning_rate': 0.11, 'n_estimators': 60}\n",
      "0.839 (+/-0.053) for {'learning_rate': 0.11, 'n_estimators': 70}\n",
      "0.839 (+/-0.067) for {'learning_rate': 0.11, 'n_estimators': 80}\n",
      "0.839 (+/-0.072) for {'learning_rate': 0.11, 'n_estimators': 90}\n",
      "0.841 (+/-0.079) for {'learning_rate': 0.11, 'n_estimators': 100}\n",
      "0.844 (+/-0.070) for {'learning_rate': 0.11, 'n_estimators': 110}\n",
      "0.645 (+/-0.096) for {'learning_rate': 0.12, 'n_estimators': 10}\n",
      "0.769 (+/-0.073) for {'learning_rate': 0.12, 'n_estimators': 20}\n",
      "0.808 (+/-0.075) for {'learning_rate': 0.12, 'n_estimators': 30}\n",
      "0.817 (+/-0.075) for {'learning_rate': 0.12, 'n_estimators': 40}\n",
      "0.830 (+/-0.063) for {'learning_rate': 0.12, 'n_estimators': 50}\n",
      "0.840 (+/-0.075) for {'learning_rate': 0.12, 'n_estimators': 60}\n",
      "0.843 (+/-0.079) for {'learning_rate': 0.12, 'n_estimators': 70}\n",
      "0.835 (+/-0.077) for {'learning_rate': 0.12, 'n_estimators': 80}\n",
      "0.846 (+/-0.058) for {'learning_rate': 0.12, 'n_estimators': 90}\n",
      "0.848 (+/-0.067) for {'learning_rate': 0.12, 'n_estimators': 100}\n",
      "0.854 (+/-0.063) for {'learning_rate': 0.12, 'n_estimators': 110}\n",
      "0.681 (+/-0.093) for {'learning_rate': 0.13, 'n_estimators': 10}\n",
      "0.773 (+/-0.064) for {'learning_rate': 0.13, 'n_estimators': 20}\n",
      "0.806 (+/-0.083) for {'learning_rate': 0.13, 'n_estimators': 30}\n",
      "0.826 (+/-0.070) for {'learning_rate': 0.13, 'n_estimators': 40}\n",
      "0.829 (+/-0.069) for {'learning_rate': 0.13, 'n_estimators': 50}\n",
      "0.834 (+/-0.071) for {'learning_rate': 0.13, 'n_estimators': 60}\n",
      "0.835 (+/-0.074) for {'learning_rate': 0.13, 'n_estimators': 70}\n",
      "0.844 (+/-0.073) for {'learning_rate': 0.13, 'n_estimators': 80}\n",
      "0.843 (+/-0.075) for {'learning_rate': 0.13, 'n_estimators': 90}\n",
      "0.837 (+/-0.070) for {'learning_rate': 0.13, 'n_estimators': 100}\n",
      "0.842 (+/-0.073) for {'learning_rate': 0.13, 'n_estimators': 110}\n",
      "0.693 (+/-0.097) for {'learning_rate': 0.14000000000000001, 'n_estimators': 10}\n",
      "0.794 (+/-0.077) for {'learning_rate': 0.14000000000000001, 'n_estimators': 20}\n",
      "0.814 (+/-0.076) for {'learning_rate': 0.14000000000000001, 'n_estimators': 30}\n",
      "0.835 (+/-0.077) for {'learning_rate': 0.14000000000000001, 'n_estimators': 40}\n",
      "0.826 (+/-0.074) for {'learning_rate': 0.14000000000000001, 'n_estimators': 50}\n",
      "0.845 (+/-0.064) for {'learning_rate': 0.14000000000000001, 'n_estimators': 60}\n",
      "0.844 (+/-0.068) for {'learning_rate': 0.14000000000000001, 'n_estimators': 70}\n",
      "0.848 (+/-0.068) for {'learning_rate': 0.14000000000000001, 'n_estimators': 80}\n",
      "0.844 (+/-0.067) for {'learning_rate': 0.14000000000000001, 'n_estimators': 90}\n",
      "0.841 (+/-0.079) for {'learning_rate': 0.14000000000000001, 'n_estimators': 100}\n",
      "0.846 (+/-0.062) for {'learning_rate': 0.14000000000000001, 'n_estimators': 110}\n",
      "0.713 (+/-0.082) for {'learning_rate': 0.15000000000000002, 'n_estimators': 10}\n",
      "0.789 (+/-0.085) for {'learning_rate': 0.15000000000000002, 'n_estimators': 20}\n",
      "0.823 (+/-0.072) for {'learning_rate': 0.15000000000000002, 'n_estimators': 30}\n",
      "0.832 (+/-0.078) for {'learning_rate': 0.15000000000000002, 'n_estimators': 40}\n",
      "0.828 (+/-0.082) for {'learning_rate': 0.15000000000000002, 'n_estimators': 50}\n",
      "0.830 (+/-0.071) for {'learning_rate': 0.15000000000000002, 'n_estimators': 60}\n",
      "0.844 (+/-0.082) for {'learning_rate': 0.15000000000000002, 'n_estimators': 70}\n",
      "0.849 (+/-0.052) for {'learning_rate': 0.15000000000000002, 'n_estimators': 80}\n",
      "0.842 (+/-0.078) for {'learning_rate': 0.15000000000000002, 'n_estimators': 90}\n",
      "0.856 (+/-0.049) for {'learning_rate': 0.15000000000000002, 'n_estimators': 100}\n",
      "0.839 (+/-0.074) for {'learning_rate': 0.15000000000000002, 'n_estimators': 110}\n",
      "0.716 (+/-0.061) for {'learning_rate': 0.16, 'n_estimators': 10}\n",
      "0.791 (+/-0.087) for {'learning_rate': 0.16, 'n_estimators': 20}\n",
      "0.813 (+/-0.086) for {'learning_rate': 0.16, 'n_estimators': 30}\n",
      "0.830 (+/-0.067) for {'learning_rate': 0.16, 'n_estimators': 40}\n",
      "0.818 (+/-0.083) for {'learning_rate': 0.16, 'n_estimators': 50}\n",
      "0.832 (+/-0.078) for {'learning_rate': 0.16, 'n_estimators': 60}\n",
      "0.848 (+/-0.061) for {'learning_rate': 0.16, 'n_estimators': 70}\n",
      "0.841 (+/-0.068) for {'learning_rate': 0.16, 'n_estimators': 80}\n",
      "0.841 (+/-0.083) for {'learning_rate': 0.16, 'n_estimators': 90}\n",
      "0.847 (+/-0.070) for {'learning_rate': 0.16, 'n_estimators': 100}\n",
      "0.847 (+/-0.071) for {'learning_rate': 0.16, 'n_estimators': 110}\n",
      "0.716 (+/-0.099) for {'learning_rate': 0.17000000000000001, 'n_estimators': 10}\n",
      "0.803 (+/-0.070) for {'learning_rate': 0.17000000000000001, 'n_estimators': 20}\n",
      "0.823 (+/-0.070) for {'learning_rate': 0.17000000000000001, 'n_estimators': 30}\n",
      "0.834 (+/-0.072) for {'learning_rate': 0.17000000000000001, 'n_estimators': 40}\n",
      "0.839 (+/-0.063) for {'learning_rate': 0.17000000000000001, 'n_estimators': 50}\n",
      "0.840 (+/-0.062) for {'learning_rate': 0.17000000000000001, 'n_estimators': 60}\n",
      "0.849 (+/-0.058) for {'learning_rate': 0.17000000000000001, 'n_estimators': 70}\n",
      "0.845 (+/-0.079) for {'learning_rate': 0.17000000000000001, 'n_estimators': 80}\n",
      "0.848 (+/-0.070) for {'learning_rate': 0.17000000000000001, 'n_estimators': 90}\n",
      "0.849 (+/-0.060) for {'learning_rate': 0.17000000000000001, 'n_estimators': 100}\n",
      "0.849 (+/-0.079) for {'learning_rate': 0.17000000000000001, 'n_estimators': 110}\n",
      "0.732 (+/-0.075) for {'learning_rate': 0.18000000000000002, 'n_estimators': 10}\n",
      "0.803 (+/-0.077) for {'learning_rate': 0.18000000000000002, 'n_estimators': 20}\n",
      "0.803 (+/-0.078) for {'learning_rate': 0.18000000000000002, 'n_estimators': 30}\n",
      "0.851 (+/-0.054) for {'learning_rate': 0.18000000000000002, 'n_estimators': 40}\n",
      "0.836 (+/-0.077) for {'learning_rate': 0.18000000000000002, 'n_estimators': 50}\n",
      "0.851 (+/-0.074) for {'learning_rate': 0.18000000000000002, 'n_estimators': 60}\n",
      "0.841 (+/-0.082) for {'learning_rate': 0.18000000000000002, 'n_estimators': 70}\n",
      "0.832 (+/-0.071) for {'learning_rate': 0.18000000000000002, 'n_estimators': 80}\n",
      "0.841 (+/-0.081) for {'learning_rate': 0.18000000000000002, 'n_estimators': 90}\n",
      "0.846 (+/-0.084) for {'learning_rate': 0.18000000000000002, 'n_estimators': 100}\n",
      "0.850 (+/-0.058) for {'learning_rate': 0.18000000000000002, 'n_estimators': 110}\n",
      "0.750 (+/-0.079) for {'learning_rate': 0.19, 'n_estimators': 10}\n",
      "0.798 (+/-0.091) for {'learning_rate': 0.19, 'n_estimators': 20}\n",
      "0.830 (+/-0.075) for {'learning_rate': 0.19, 'n_estimators': 30}\n",
      "0.842 (+/-0.060) for {'learning_rate': 0.19, 'n_estimators': 40}\n",
      "0.841 (+/-0.073) for {'learning_rate': 0.19, 'n_estimators': 50}\n",
      "0.834 (+/-0.080) for {'learning_rate': 0.19, 'n_estimators': 60}\n",
      "0.846 (+/-0.070) for {'learning_rate': 0.19, 'n_estimators': 70}\n",
      "0.843 (+/-0.063) for {'learning_rate': 0.19, 'n_estimators': 80}\n",
      "0.843 (+/-0.070) for {'learning_rate': 0.19, 'n_estimators': 90}\n",
      "0.850 (+/-0.061) for {'learning_rate': 0.19, 'n_estimators': 100}\n",
      "0.853 (+/-0.061) for {'learning_rate': 0.19, 'n_estimators': 110}\n",
      "0.728 (+/-0.121) for {'learning_rate': 0.20000000000000001, 'n_estimators': 10}\n",
      "0.802 (+/-0.078) for {'learning_rate': 0.20000000000000001, 'n_estimators': 20}\n",
      "0.820 (+/-0.086) for {'learning_rate': 0.20000000000000001, 'n_estimators': 30}\n",
      "0.830 (+/-0.070) for {'learning_rate': 0.20000000000000001, 'n_estimators': 40}\n",
      "0.828 (+/-0.096) for {'learning_rate': 0.20000000000000001, 'n_estimators': 50}\n",
      "0.849 (+/-0.068) for {'learning_rate': 0.20000000000000001, 'n_estimators': 60}\n",
      "0.836 (+/-0.075) for {'learning_rate': 0.20000000000000001, 'n_estimators': 70}\n",
      "0.851 (+/-0.062) for {'learning_rate': 0.20000000000000001, 'n_estimators': 80}\n",
      "0.843 (+/-0.065) for {'learning_rate': 0.20000000000000001, 'n_estimators': 90}\n",
      "0.850 (+/-0.072) for {'learning_rate': 0.20000000000000001, 'n_estimators': 100}\n",
      "0.840 (+/-0.082) for {'learning_rate': 0.20000000000000001, 'n_estimators': 110}\n",
      "\n"
     ]
    }
   ],
   "source": [
    "X_train, X_test, y_train, y_test = train_test_split(X, y, test_size=0.2)\n",
    "\n",
    "n_range = np.arange(1, 11)\n",
    "depth_range = np.arange(1, 11)\n",
    "split = np.arange(2, 11)\n",
    "n_range_1 = np.linspace(10, 110, 11, dtype=int)\n",
    "learn = np.linspace(0.01, 0.2, 20)\n",
    "\n",
    "tuned_parameters_1 = dict(n_estimators=n_range, max_depth=depth_range)\n",
    "tuned_parameters_2 = dict(max_depth=depth_range, min_samples_split=split)\n",
    "tuned_parameters_3 = dict(learning_rate=learn, n_estimators=n_range_1)\n",
    "\n",
    "cv = KFold(n_splits=5, shuffle=True, random_state=50)\n",
    "\n",
    "rfr = RandomForestRegressor()   \n",
    "dtr = DecisionTreeRegressor()\n",
    "gbr = GradientBoostingRegressor(subsample=0.8)\n",
    " \n",
    "clf = GridSearchCV(estimator=gbr, param_grid=tuned_parameters_3, cv=cv, n_jobs=-1)\n",
    "clf.fit(X_train, y_train)\n",
    "\n",
    "print(\"The best parameters are %s with a score of %0.2f\" % (clf.best_params_, clf.best_score_))\n",
    "print()\n",
    "print(clf.best_params_)\n",
    "print()\n",
    "print(\"Grid scores on development set:\")\n",
    "print()\n",
    "means = clf.cv_results_['mean_test_score']\n",
    "stds = clf.cv_results_['std_test_score']\n",
    "for mean, std, params in zip(means, stds, clf.cv_results_['params']):\n",
    "    print(\"%0.3f (+/-%0.03f) for %r\" % (mean, std * 2, params))\n",
    "print()"
   ]
  },
  {
   "cell_type": "code",
   "execution_count": 72,
   "metadata": {},
   "outputs": [
    {
     "data": {
      "text/plain": [
       "array([ 0.01,  0.02,  0.03,  0.04,  0.05,  0.06,  0.07,  0.08,  0.09,\n",
       "        0.1 ,  0.11,  0.12,  0.13,  0.14,  0.15,  0.16,  0.17,  0.18,\n",
       "        0.19,  0.2 ])"
      ]
     },
     "execution_count": 72,
     "metadata": {},
     "output_type": "execute_result"
    }
   ],
   "source": [
    "n_range_1 = np.linspace(10, 110, 11, dtype=int)\n",
    "learn = np.linspace(0.01, 0.2, 20)\n"
   ]
  },
  {
   "cell_type": "code",
   "execution_count": 92,
   "metadata": {},
   "outputs": [
    {
     "name": "stdout",
     "output_type": "stream",
     "text": [
      "0.97313063951\n",
      "0.855711855323\n",
      "0.846086762317\n"
     ]
    }
   ],
   "source": [
    "index = clf.best_index_\n",
    "train_score =  clf.cv_results_['mean_train_score'][index]\n",
    "test_score = clf.cv_results_['mean_test_score'][index]\n",
    "test_socre1 = clf.score(X_test, y_test)\n",
    "print(train_score)\n",
    "print(test_score)\n",
    "print(test_socre1)"
   ]
  },
  {
   "cell_type": "code",
   "execution_count": 93,
   "metadata": {},
   "outputs": [
    {
     "name": "stdout",
     "output_type": "stream",
     "text": [
      "0.103072102718\n",
      "0.234317427796\n"
     ]
    }
   ],
   "source": [
    "def per_err(y_true, y_pred):\n",
    "    err = np.average(np.abs(y_true - y_pred) / y_true)\n",
    "    return err\n",
    "\n",
    "print(per_err(y_train, clf.predict(X_train)))\n",
    "print(per_err(y_test, clf.predict(X_test)))"
   ]
  },
  {
   "cell_type": "code",
   "execution_count": 94,
   "metadata": {},
   "outputs": [
    {
     "data": {
      "text/plain": [
       "array([ 0.10865916,  0.24295282,  0.03980045,  0.0930608 ,  0.21714717,\n",
       "        0.05981359,  0.0922338 ,  0.08147721,  0.03116543,  0.03368958])"
      ]
     },
     "execution_count": 94,
     "metadata": {},
     "output_type": "execute_result"
    }
   ],
   "source": [
    "clf.best_estimator_.feature_importances_"
   ]
  },
  {
   "cell_type": "code",
   "execution_count": 97,
   "metadata": {},
   "outputs": [],
   "source": [
    "estimator = clf.best_estimator_\n",
    "cv = KFold(n_splits=10, shuffle=True)\n",
    "train_sizes=np.linspace(.1, 1.0, 10)\n",
    "\n",
    "train_sizes, train_scores, test_scores = learning_curve(estimator, X, y, cv=cv, \n",
    "                                                        train_sizes=train_sizes, scoring='r2', n_jobs=-1)"
   ]
  },
  {
   "cell_type": "code",
   "execution_count": 98,
   "metadata": {},
   "outputs": [
    {
     "data": {
      "text/plain": [
       "[<matplotlib.lines.Line2D at 0xc38b860>]"
      ]
     },
     "execution_count": 98,
     "metadata": {},
     "output_type": "execute_result"
    },
    {
     "data": {
      "image/png": "[encoded data removed]",
      "text/plain": [
       "<matplotlib.figure.Figure at 0xc3543c8>"
      ]
     },
     "metadata": {},
     "output_type": "display_data"
    }
   ],
   "source": [
    "train_scores_mean = np.mean(train_scores, axis=1)\n",
    "train_scores_std = np.std(train_scores, axis=1)\n",
    "test_scores_mean = np.mean(test_scores, axis=1)\n",
    "test_scores_std = np.std(test_scores, axis=1)\n",
    "\n",
    "plt.fill_between(train_sizes, train_scores_mean - train_scores_std,\n",
    "                     train_scores_mean + train_scores_std, alpha=0.1,\n",
    "                     color=\"r\")\n",
    "plt.fill_between(train_sizes, test_scores_mean - test_scores_std,\n",
    "                     test_scores_mean + test_scores_std, alpha=0.1, color=\"g\")\n",
    "plt.plot(train_sizes, train_scores_mean, 'o-', color=\"r\",\n",
    "             label=\"Training score\")\n",
    "plt.plot(train_sizes, test_scores_mean, 'o-', color=\"g\",\n",
    "             label=\"Cross-validation score\")"
   ]
  },
  {
   "cell_type": "code",
   "execution_count": 99,
   "metadata": {},
   "outputs": [
    {
     "data": {
      "text/plain": [
       "array([-2.18785832,  0.22863012,  0.3101679 ,  0.55895383,  0.57556972,\n",
       "        0.65442066,  0.73828279,  0.81499437,  0.84061979,  0.84089346])"
      ]
     },
     "execution_count": 99,
     "metadata": {},
     "output_type": "execute_result"
    }
   ],
   "source": [
    "test_scores_mean"
   ]
  }
 ],
 "metadata": {
  "kernelspec": {
   "display_name": "Python 3",
   "language": "python",
   "name": "python3"
  },
  "language_info": {
   "codemirror_mode": {
    "name": "ipython",
    "version": 3
   },
   "file_extension": ".py",
   "mimetype": "text/x-python",
   "name": "python",
   "nbconvert_exporter": "python",
   "pygments_lexer": "ipython3",
   "version": "3.6.1"
  }
 },
 "nbformat": 4,
 "nbformat_minor": 2
}
