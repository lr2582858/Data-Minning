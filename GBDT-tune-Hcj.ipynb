{
 "cells": [
  {
   "cell_type": "code",
   "execution_count": 650,
   "metadata": {
    "collapsed": true
   },
   "outputs": [],
   "source": [
    "import pandas as pd\n",
    "import numpy as np\n",
    "import pandas as pd\n",
    "import numpy as np\n",
    "from sklearn.model_selection import train_test_split, GridSearchCV\n",
    "from sklearn.model_selection import KFold\n",
    "from sklearn.ensemble import GradientBoostingRegressor\n",
    "from sklearn.model_selection import learning_curve\n",
    "from sklearn.tree import DecisionTreeRegressor\n",
    "from sklearn.metrics import mean_absolute_error\n",
    "import matplotlib.pyplot as plt\n",
    "%matplotlib inline"
   ]
  },
  {
   "cell_type": "code",
   "execution_count": 1048,
   "metadata": {},
   "outputs": [
    {
     "data": {
      "text/html": [
       "<div>\n",
       "<style>\n",
       "    .dataframe thead tr:only-child th {\n",
       "        text-align: right;\n",
       "    }\n",
       "\n",
       "    .dataframe thead th {\n",
       "        text-align: left;\n",
       "    }\n",
       "\n",
       "    .dataframe tbody tr th {\n",
       "        vertical-align: top;\n",
       "    }\n",
       "</style>\n",
       "<table border=\"1\" class=\"dataframe\">\n",
       "  <thead>\n",
       "    <tr style=\"text-align: right;\">\n",
       "      <th></th>\n",
       "      <th>REs</th>\n",
       "      <th>PrNd</th>\n",
       "      <th>La</th>\n",
       "      <th>Ce</th>\n",
       "      <th>Fe</th>\n",
       "      <th>Co</th>\n",
       "      <th>TM</th>\n",
       "      <th>B</th>\n",
       "      <th>PrNd_p</th>\n",
       "      <th>La_p</th>\n",
       "      <th>Ce_p</th>\n",
       "      <th>Hcj</th>\n",
       "    </tr>\n",
       "  </thead>\n",
       "  <tbody>\n",
       "    <tr>\n",
       "      <th>0</th>\n",
       "      <td>13.0</td>\n",
       "      <td>10.4</td>\n",
       "      <td>0.0</td>\n",
       "      <td>2.6</td>\n",
       "      <td>82.0</td>\n",
       "      <td>0.0</td>\n",
       "      <td>0.0</td>\n",
       "      <td>5.0</td>\n",
       "      <td>0.8</td>\n",
       "      <td>0.0</td>\n",
       "      <td>0.2</td>\n",
       "      <td>12.2</td>\n",
       "    </tr>\n",
       "    <tr>\n",
       "      <th>1</th>\n",
       "      <td>13.0</td>\n",
       "      <td>10.4</td>\n",
       "      <td>0.0</td>\n",
       "      <td>2.6</td>\n",
       "      <td>81.5</td>\n",
       "      <td>0.0</td>\n",
       "      <td>0.5</td>\n",
       "      <td>5.0</td>\n",
       "      <td>0.8</td>\n",
       "      <td>0.0</td>\n",
       "      <td>0.2</td>\n",
       "      <td>13.1</td>\n",
       "    </tr>\n",
       "    <tr>\n",
       "      <th>2</th>\n",
       "      <td>13.0</td>\n",
       "      <td>10.4</td>\n",
       "      <td>0.0</td>\n",
       "      <td>2.6</td>\n",
       "      <td>81.0</td>\n",
       "      <td>0.0</td>\n",
       "      <td>1.0</td>\n",
       "      <td>5.0</td>\n",
       "      <td>0.8</td>\n",
       "      <td>0.0</td>\n",
       "      <td>0.2</td>\n",
       "      <td>12.8</td>\n",
       "    </tr>\n",
       "  </tbody>\n",
       "</table>\n",
       "</div>"
      ],
      "text/plain": [
       "    REs  PrNd   La   Ce    Fe   Co   TM    B  PrNd_p  La_p  Ce_p   Hcj\n",
       "0  13.0  10.4  0.0  2.6  82.0  0.0  0.0  5.0     0.8   0.0   0.2  12.2\n",
       "1  13.0  10.4  0.0  2.6  81.5  0.0  0.5  5.0     0.8   0.0   0.2  13.1\n",
       "2  13.0  10.4  0.0  2.6  81.0  0.0  1.0  5.0     0.8   0.0   0.2  12.8"
      ]
     },
     "execution_count": 1048,
     "metadata": {},
     "output_type": "execute_result"
    }
   ],
   "source": [
    "df = pd.read_csv('hcj_data.csv', names=['REs', 'PrNd', 'La', 'Ce', 'Fe', 'Co', 'TM', 'B', 'PrNd_p', 'La_p', 'Ce_p', 'Hcj'])\n",
    "X = df.iloc[:, :11].values\n",
    "y = df['Hcj'].values\n",
    "test_data = pd.DataFrame()\n",
    "tune_1 = pd.DataFrame()\n",
    "tune_2 = pd.DataFrame()\n",
    "tune_3 = pd.DataFrame()\n",
    "df.head(3)"
   ]
  },
  {
   "cell_type": "code",
   "execution_count": 1017,
   "metadata": {},
   "outputs": [
    {
     "name": "stdout",
     "output_type": "stream",
     "text": [
      "0.756854400204 0.863175105691\n"
     ]
    },
    {
     "data": {
      "text/plain": [
       "<matplotlib.collections.PathCollection at 0x26da9470>"
      ]
     },
     "execution_count": 1017,
     "metadata": {},
     "output_type": "execute_result"
    },
    {
     "data": {
      "image/png": "[encoded data removed]",
      "text/plain": [
       "<matplotlib.figure.Figure at 0x269a30b8>"
      ]
     },
     "metadata": {},
     "output_type": "display_data"
    }
   ],
   "source": [
    "X_train, X_test, y_train, y_test = train_test_split(X, y, test_size=0.2, random_state=12)\n",
    "clf1 = DecisionTreeRegressor(random_state=1)\n",
    "clf2 = GradientBoostingRegressor(random_state=38)\n",
    "clf1.fit(X_train, y_train)\n",
    "clf2.fit(X_train, y_train)\n",
    "\n",
    "y_pred1 = clf1.predict(X_test)\n",
    "y_pred2 = clf2.predict(X_test)\n",
    "score_test1 = clf1.score(X_test, y_test)\n",
    "score_test2 = clf2.score(X_test, y_test)\n",
    "print(score_test1, score_test2)\n",
    "\n",
    "x0 = np.linspace(-2, 25, 100)\n",
    "plt.figure(figsize=(10,5))\n",
    "plt.subplot(121)\n",
    "plt.plot(x0, x0, 'r')\n",
    "plt.scatter(y_test, y_pred1)\n",
    "plt.subplot(122)\n",
    "plt.plot(x0, x0, 'r')\n",
    "plt.scatter(y_test, y_pred2)"
   ]
  },
  {
   "cell_type": "code",
   "execution_count": 1060,
   "metadata": {},
   "outputs": [
    {
     "data": {
      "text/plain": [
       "0.30455032860601872"
      ]
     },
     "execution_count": 1060,
     "metadata": {},
     "output_type": "execute_result"
    }
   ],
   "source": [
    "def abserr(y_pred, y_test):\n",
    "    err = np.abs(y_pred - y_test)\n",
    "    return err"
   ]
  },
  {
   "cell_type": "code",
   "execution_count": 1034,
   "metadata": {},
   "outputs": [],
   "source": [
    "test_data['hcj'] = y_test \n",
    "test_data['pre1'], test_data['err1']= y_pred1, abserr(y_pred1, y_test)\n",
    "test_data['pre2'], test_data['err2']= y_pred2, abserr(y_pred2, y_test)\n",
    "#test_data.to_csv('test.csv', index=False)"
   ]
  },
  {
   "cell_type": "code",
   "execution_count": 1020,
   "metadata": {},
   "outputs": [
    {
     "name": "stdout",
     "output_type": "stream",
     "text": [
      "The best parameters are {'learning_rate': 0.12999999999999998, 'n_estimators': 90} with a score of 0.82719, test_score: 0.86269\n",
      "\n",
      "{'learning_rate': 0.12999999999999998, 'n_estimators': 90}\n",
      "\n",
      "Grid scores on development set:\n",
      "\n",
      "r2: 0.0981, std: 0.021 for {'learning_rate': 0.01, 'n_estimators': 10}\n",
      "r2: 0.2842, std: 0.035 for {'learning_rate': 0.01, 'n_estimators': 30}\n",
      "r2: 0.4111, std: 0.039 for {'learning_rate': 0.01, 'n_estimators': 50}\n",
      "r2: 0.5020, std: 0.040 for {'learning_rate': 0.01, 'n_estimators': 70}\n",
      "r2: 0.5696, std: 0.041 for {'learning_rate': 0.01, 'n_estimators': 90}\n",
      "r2: 0.6198, std: 0.039 for {'learning_rate': 0.01, 'n_estimators': 110}\n",
      "r2: 0.6555, std: 0.038 for {'learning_rate': 0.01, 'n_estimators': 130}\n",
      "r2: 0.6827, std: 0.038 for {'learning_rate': 0.01, 'n_estimators': 150}\n",
      "r2: 0.7053, std: 0.038 for {'learning_rate': 0.01, 'n_estimators': 170}\n",
      "r2: 0.7243, std: 0.037 for {'learning_rate': 0.01, 'n_estimators': 190}\n",
      "r2: 0.7400, std: 0.035 for {'learning_rate': 0.01, 'n_estimators': 210}\n",
      "r2: 0.7534, std: 0.032 for {'learning_rate': 0.01, 'n_estimators': 230}\n",
      "r2: 0.7640, std: 0.032 for {'learning_rate': 0.01, 'n_estimators': 250}\n",
      "r2: 0.7739, std: 0.031 for {'learning_rate': 0.01, 'n_estimators': 270}\n",
      "r2: 0.7811, std: 0.030 for {'learning_rate': 0.01, 'n_estimators': 290}\n",
      "r2: 0.2862, std: 0.036 for {'learning_rate': 0.029999999999999999, 'n_estimators': 10}\n",
      "r2: 0.5708, std: 0.043 for {'learning_rate': 0.029999999999999999, 'n_estimators': 30}\n",
      "r2: 0.6851, std: 0.039 for {'learning_rate': 0.029999999999999999, 'n_estimators': 50}\n",
      "r2: 0.7426, std: 0.035 for {'learning_rate': 0.029999999999999999, 'n_estimators': 70}\n",
      "r2: 0.7752, std: 0.032 for {'learning_rate': 0.029999999999999999, 'n_estimators': 90}\n",
      "r2: 0.7921, std: 0.027 for {'learning_rate': 0.029999999999999999, 'n_estimators': 110}\n",
      "r2: 0.8020, std: 0.025 for {'learning_rate': 0.029999999999999999, 'n_estimators': 130}\n",
      "r2: 0.8075, std: 0.022 for {'learning_rate': 0.029999999999999999, 'n_estimators': 150}\n",
      "r2: 0.8115, std: 0.021 for {'learning_rate': 0.029999999999999999, 'n_estimators': 170}\n",
      "r2: 0.8148, std: 0.019 for {'learning_rate': 0.029999999999999999, 'n_estimators': 190}\n",
      "r2: 0.8163, std: 0.018 for {'learning_rate': 0.029999999999999999, 'n_estimators': 210}\n",
      "r2: 0.8180, std: 0.018 for {'learning_rate': 0.029999999999999999, 'n_estimators': 230}\n",
      "r2: 0.8190, std: 0.018 for {'learning_rate': 0.029999999999999999, 'n_estimators': 250}\n",
      "r2: 0.8207, std: 0.018 for {'learning_rate': 0.029999999999999999, 'n_estimators': 270}\n",
      "r2: 0.8222, std: 0.018 for {'learning_rate': 0.029999999999999999, 'n_estimators': 290}\n",
      "r2: 0.4152, std: 0.042 for {'learning_rate': 0.049999999999999996, 'n_estimators': 10}\n",
      "r2: 0.6860, std: 0.039 for {'learning_rate': 0.049999999999999996, 'n_estimators': 30}\n",
      "r2: 0.7642, std: 0.033 for {'learning_rate': 0.049999999999999996, 'n_estimators': 50}\n",
      "r2: 0.7936, std: 0.028 for {'learning_rate': 0.049999999999999996, 'n_estimators': 70}\n",
      "r2: 0.8039, std: 0.023 for {'learning_rate': 0.049999999999999996, 'n_estimators': 90}\n",
      "r2: 0.8071, std: 0.021 for {'learning_rate': 0.049999999999999996, 'n_estimators': 110}\n",
      "r2: 0.8114, std: 0.020 for {'learning_rate': 0.049999999999999996, 'n_estimators': 130}\n",
      "r2: 0.8160, std: 0.019 for {'learning_rate': 0.049999999999999996, 'n_estimators': 150}\n",
      "r2: 0.8184, std: 0.018 for {'learning_rate': 0.049999999999999996, 'n_estimators': 170}\n",
      "r2: 0.8212, std: 0.019 for {'learning_rate': 0.049999999999999996, 'n_estimators': 190}\n",
      "r2: 0.8222, std: 0.020 for {'learning_rate': 0.049999999999999996, 'n_estimators': 210}\n",
      "r2: 0.8223, std: 0.021 for {'learning_rate': 0.049999999999999996, 'n_estimators': 230}\n",
      "r2: 0.8218, std: 0.021 for {'learning_rate': 0.049999999999999996, 'n_estimators': 250}\n",
      "r2: 0.8204, std: 0.023 for {'learning_rate': 0.049999999999999996, 'n_estimators': 270}\n",
      "r2: 0.8191, std: 0.024 for {'learning_rate': 0.049999999999999996, 'n_estimators': 290}\n",
      "r2: 0.5091, std: 0.037 for {'learning_rate': 0.069999999999999993, 'n_estimators': 10}\n",
      "r2: 0.7432, std: 0.036 for {'learning_rate': 0.069999999999999993, 'n_estimators': 30}\n",
      "r2: 0.7992, std: 0.027 for {'learning_rate': 0.069999999999999993, 'n_estimators': 50}\n",
      "r2: 0.8103, std: 0.022 for {'learning_rate': 0.069999999999999993, 'n_estimators': 70}\n",
      "r2: 0.8143, std: 0.020 for {'learning_rate': 0.069999999999999993, 'n_estimators': 90}\n",
      "r2: 0.8202, std: 0.018 for {'learning_rate': 0.069999999999999993, 'n_estimators': 110}\n",
      "r2: 0.8237, std: 0.017 for {'learning_rate': 0.069999999999999993, 'n_estimators': 130}\n",
      "r2: 0.8247, std: 0.017 for {'learning_rate': 0.069999999999999993, 'n_estimators': 150}\n",
      "r2: 0.8247, std: 0.018 for {'learning_rate': 0.069999999999999993, 'n_estimators': 170}\n",
      "r2: 0.8233, std: 0.020 for {'learning_rate': 0.069999999999999993, 'n_estimators': 190}\n",
      "r2: 0.8230, std: 0.021 for {'learning_rate': 0.069999999999999993, 'n_estimators': 210}\n",
      "r2: 0.8226, std: 0.021 for {'learning_rate': 0.069999999999999993, 'n_estimators': 230}\n",
      "r2: 0.8224, std: 0.023 for {'learning_rate': 0.069999999999999993, 'n_estimators': 250}\n",
      "r2: 0.8217, std: 0.024 for {'learning_rate': 0.069999999999999993, 'n_estimators': 270}\n",
      "r2: 0.8202, std: 0.025 for {'learning_rate': 0.069999999999999993, 'n_estimators': 290}\n",
      "r2: 0.5803, std: 0.049 for {'learning_rate': 0.089999999999999983, 'n_estimators': 10}\n",
      "r2: 0.7708, std: 0.034 for {'learning_rate': 0.089999999999999983, 'n_estimators': 30}\n",
      "r2: 0.8019, std: 0.023 for {'learning_rate': 0.089999999999999983, 'n_estimators': 50}\n",
      "r2: 0.8098, std: 0.017 for {'learning_rate': 0.089999999999999983, 'n_estimators': 70}\n",
      "r2: 0.8161, std: 0.017 for {'learning_rate': 0.089999999999999983, 'n_estimators': 90}\n",
      "r2: 0.8180, std: 0.019 for {'learning_rate': 0.089999999999999983, 'n_estimators': 110}\n",
      "r2: 0.8195, std: 0.020 for {'learning_rate': 0.089999999999999983, 'n_estimators': 130}\n",
      "r2: 0.8184, std: 0.022 for {'learning_rate': 0.089999999999999983, 'n_estimators': 150}\n",
      "r2: 0.8189, std: 0.023 for {'learning_rate': 0.089999999999999983, 'n_estimators': 170}\n",
      "r2: 0.8198, std: 0.024 for {'learning_rate': 0.089999999999999983, 'n_estimators': 190}\n",
      "r2: 0.8197, std: 0.025 for {'learning_rate': 0.089999999999999983, 'n_estimators': 210}\n",
      "r2: 0.8195, std: 0.025 for {'learning_rate': 0.089999999999999983, 'n_estimators': 230}\n",
      "r2: 0.8183, std: 0.027 for {'learning_rate': 0.089999999999999983, 'n_estimators': 250}\n",
      "r2: 0.8175, std: 0.029 for {'learning_rate': 0.089999999999999983, 'n_estimators': 270}\n",
      "r2: 0.8165, std: 0.030 for {'learning_rate': 0.089999999999999983, 'n_estimators': 290}\n",
      "r2: 0.6280, std: 0.048 for {'learning_rate': 0.10999999999999997, 'n_estimators': 10}\n",
      "r2: 0.7881, std: 0.029 for {'learning_rate': 0.10999999999999997, 'n_estimators': 30}\n",
      "r2: 0.8073, std: 0.022 for {'learning_rate': 0.10999999999999997, 'n_estimators': 50}\n",
      "r2: 0.8139, std: 0.021 for {'learning_rate': 0.10999999999999997, 'n_estimators': 70}\n",
      "r2: 0.8184, std: 0.022 for {'learning_rate': 0.10999999999999997, 'n_estimators': 90}\n",
      "r2: 0.8166, std: 0.025 for {'learning_rate': 0.10999999999999997, 'n_estimators': 110}\n",
      "r2: 0.8154, std: 0.029 for {'learning_rate': 0.10999999999999997, 'n_estimators': 130}\n",
      "r2: 0.8145, std: 0.031 for {'learning_rate': 0.10999999999999997, 'n_estimators': 150}\n",
      "r2: 0.8141, std: 0.032 for {'learning_rate': 0.10999999999999997, 'n_estimators': 170}\n",
      "r2: 0.8125, std: 0.034 for {'learning_rate': 0.10999999999999997, 'n_estimators': 190}\n",
      "r2: 0.8125, std: 0.035 for {'learning_rate': 0.10999999999999997, 'n_estimators': 210}\n",
      "r2: 0.8116, std: 0.036 for {'learning_rate': 0.10999999999999997, 'n_estimators': 230}\n",
      "r2: 0.8114, std: 0.037 for {'learning_rate': 0.10999999999999997, 'n_estimators': 250}\n",
      "r2: 0.8102, std: 0.039 for {'learning_rate': 0.10999999999999997, 'n_estimators': 270}\n",
      "r2: 0.8082, std: 0.042 for {'learning_rate': 0.10999999999999997, 'n_estimators': 290}\n",
      "r2: 0.6666, std: 0.039 for {'learning_rate': 0.12999999999999998, 'n_estimators': 10}\n",
      "r2: 0.8012, std: 0.024 for {'learning_rate': 0.12999999999999998, 'n_estimators': 30}\n",
      "r2: 0.8196, std: 0.016 for {'learning_rate': 0.12999999999999998, 'n_estimators': 50}\n",
      "r2: 0.8261, std: 0.015 for {'learning_rate': 0.12999999999999998, 'n_estimators': 70}\n",
      "r2: 0.8272, std: 0.019 for {'learning_rate': 0.12999999999999998, 'n_estimators': 90}\n",
      "r2: 0.8270, std: 0.020 for {'learning_rate': 0.12999999999999998, 'n_estimators': 110}\n",
      "r2: 0.8259, std: 0.023 for {'learning_rate': 0.12999999999999998, 'n_estimators': 130}\n",
      "r2: 0.8237, std: 0.025 for {'learning_rate': 0.12999999999999998, 'n_estimators': 150}\n",
      "r2: 0.8225, std: 0.027 for {'learning_rate': 0.12999999999999998, 'n_estimators': 170}\n",
      "r2: 0.8221, std: 0.028 for {'learning_rate': 0.12999999999999998, 'n_estimators': 190}\n",
      "r2: 0.8212, std: 0.029 for {'learning_rate': 0.12999999999999998, 'n_estimators': 210}\n",
      "r2: 0.8204, std: 0.031 for {'learning_rate': 0.12999999999999998, 'n_estimators': 230}\n",
      "r2: 0.8201, std: 0.032 for {'learning_rate': 0.12999999999999998, 'n_estimators': 250}\n",
      "r2: 0.8196, std: 0.032 for {'learning_rate': 0.12999999999999998, 'n_estimators': 270}\n",
      "r2: 0.8192, std: 0.031 for {'learning_rate': 0.12999999999999998, 'n_estimators': 290}\n",
      "r2: 0.6944, std: 0.036 for {'learning_rate': 0.14999999999999999, 'n_estimators': 10}\n",
      "r2: 0.8043, std: 0.026 for {'learning_rate': 0.14999999999999999, 'n_estimators': 30}\n",
      "r2: 0.8126, std: 0.027 for {'learning_rate': 0.14999999999999999, 'n_estimators': 50}\n",
      "r2: 0.8176, std: 0.026 for {'learning_rate': 0.14999999999999999, 'n_estimators': 70}\n",
      "r2: 0.8192, std: 0.026 for {'learning_rate': 0.14999999999999999, 'n_estimators': 90}\n",
      "r2: 0.8180, std: 0.027 for {'learning_rate': 0.14999999999999999, 'n_estimators': 110}\n",
      "r2: 0.8162, std: 0.029 for {'learning_rate': 0.14999999999999999, 'n_estimators': 130}\n",
      "r2: 0.8155, std: 0.031 for {'learning_rate': 0.14999999999999999, 'n_estimators': 150}\n",
      "r2: 0.8149, std: 0.032 for {'learning_rate': 0.14999999999999999, 'n_estimators': 170}\n",
      "r2: 0.8134, std: 0.034 for {'learning_rate': 0.14999999999999999, 'n_estimators': 190}\n",
      "r2: 0.8125, std: 0.034 for {'learning_rate': 0.14999999999999999, 'n_estimators': 210}\n",
      "r2: 0.8120, std: 0.035 for {'learning_rate': 0.14999999999999999, 'n_estimators': 230}\n",
      "r2: 0.8108, std: 0.036 for {'learning_rate': 0.14999999999999999, 'n_estimators': 250}\n",
      "r2: 0.8102, std: 0.037 for {'learning_rate': 0.14999999999999999, 'n_estimators': 270}\n",
      "r2: 0.8098, std: 0.037 for {'learning_rate': 0.14999999999999999, 'n_estimators': 290}\n",
      "r2: 0.7089, std: 0.042 for {'learning_rate': 0.16999999999999998, 'n_estimators': 10}\n",
      "r2: 0.7998, std: 0.020 for {'learning_rate': 0.16999999999999998, 'n_estimators': 30}\n",
      "r2: 0.8087, std: 0.015 for {'learning_rate': 0.16999999999999998, 'n_estimators': 50}\n",
      "r2: 0.8109, std: 0.021 for {'learning_rate': 0.16999999999999998, 'n_estimators': 70}\n",
      "r2: 0.8099, std: 0.025 for {'learning_rate': 0.16999999999999998, 'n_estimators': 90}\n",
      "r2: 0.8116, std: 0.027 for {'learning_rate': 0.16999999999999998, 'n_estimators': 110}\n",
      "r2: 0.8111, std: 0.029 for {'learning_rate': 0.16999999999999998, 'n_estimators': 130}\n",
      "r2: 0.8097, std: 0.031 for {'learning_rate': 0.16999999999999998, 'n_estimators': 150}\n",
      "r2: 0.8085, std: 0.033 for {'learning_rate': 0.16999999999999998, 'n_estimators': 170}\n",
      "r2: 0.8060, std: 0.034 for {'learning_rate': 0.16999999999999998, 'n_estimators': 190}\n",
      "r2: 0.8047, std: 0.035 for {'learning_rate': 0.16999999999999998, 'n_estimators': 210}\n",
      "r2: 0.8034, std: 0.037 for {'learning_rate': 0.16999999999999998, 'n_estimators': 230}\n",
      "r2: 0.8015, std: 0.038 for {'learning_rate': 0.16999999999999998, 'n_estimators': 250}\n",
      "r2: 0.8000, std: 0.039 for {'learning_rate': 0.16999999999999998, 'n_estimators': 270}\n",
      "r2: 0.7994, std: 0.040 for {'learning_rate': 0.16999999999999998, 'n_estimators': 290}\n",
      "r2: 0.7330, std: 0.040 for {'learning_rate': 0.18999999999999997, 'n_estimators': 10}\n",
      "r2: 0.8016, std: 0.023 for {'learning_rate': 0.18999999999999997, 'n_estimators': 30}\n",
      "r2: 0.8133, std: 0.023 for {'learning_rate': 0.18999999999999997, 'n_estimators': 50}\n",
      "r2: 0.8151, std: 0.025 for {'learning_rate': 0.18999999999999997, 'n_estimators': 70}\n",
      "r2: 0.8142, std: 0.028 for {'learning_rate': 0.18999999999999997, 'n_estimators': 90}\n",
      "r2: 0.8126, std: 0.031 for {'learning_rate': 0.18999999999999997, 'n_estimators': 110}\n",
      "r2: 0.8110, std: 0.035 for {'learning_rate': 0.18999999999999997, 'n_estimators': 130}\n",
      "r2: 0.8104, std: 0.035 for {'learning_rate': 0.18999999999999997, 'n_estimators': 150}\n",
      "r2: 0.8079, std: 0.037 for {'learning_rate': 0.18999999999999997, 'n_estimators': 170}\n",
      "r2: 0.8059, std: 0.038 for {'learning_rate': 0.18999999999999997, 'n_estimators': 190}\n",
      "r2: 0.8057, std: 0.040 for {'learning_rate': 0.18999999999999997, 'n_estimators': 210}\n",
      "r2: 0.8047, std: 0.041 for {'learning_rate': 0.18999999999999997, 'n_estimators': 230}\n",
      "r2: 0.8036, std: 0.042 for {'learning_rate': 0.18999999999999997, 'n_estimators': 250}\n",
      "r2: 0.8019, std: 0.043 for {'learning_rate': 0.18999999999999997, 'n_estimators': 270}\n",
      "r2: 0.8004, std: 0.044 for {'learning_rate': 0.18999999999999997, 'n_estimators': 290}\n",
      "r2: 0.7528, std: 0.037 for {'learning_rate': 0.20999999999999996, 'n_estimators': 10}\n",
      "r2: 0.8112, std: 0.022 for {'learning_rate': 0.20999999999999996, 'n_estimators': 30}\n",
      "r2: 0.8186, std: 0.016 for {'learning_rate': 0.20999999999999996, 'n_estimators': 50}\n",
      "r2: 0.8212, std: 0.020 for {'learning_rate': 0.20999999999999996, 'n_estimators': 70}\n",
      "r2: 0.8177, std: 0.021 for {'learning_rate': 0.20999999999999996, 'n_estimators': 90}\n",
      "r2: 0.8162, std: 0.025 for {'learning_rate': 0.20999999999999996, 'n_estimators': 110}\n",
      "r2: 0.8153, std: 0.026 for {'learning_rate': 0.20999999999999996, 'n_estimators': 130}\n",
      "r2: 0.8132, std: 0.029 for {'learning_rate': 0.20999999999999996, 'n_estimators': 150}\n",
      "r2: 0.8107, std: 0.031 for {'learning_rate': 0.20999999999999996, 'n_estimators': 170}\n",
      "r2: 0.8090, std: 0.032 for {'learning_rate': 0.20999999999999996, 'n_estimators': 190}\n",
      "r2: 0.8075, std: 0.033 for {'learning_rate': 0.20999999999999996, 'n_estimators': 210}\n",
      "r2: 0.8065, std: 0.034 for {'learning_rate': 0.20999999999999996, 'n_estimators': 230}\n",
      "r2: 0.8058, std: 0.035 for {'learning_rate': 0.20999999999999996, 'n_estimators': 250}\n",
      "r2: 0.8046, std: 0.036 for {'learning_rate': 0.20999999999999996, 'n_estimators': 270}\n",
      "r2: 0.8032, std: 0.036 for {'learning_rate': 0.20999999999999996, 'n_estimators': 290}\n",
      "r2: 0.7597, std: 0.034 for {'learning_rate': 0.22999999999999998, 'n_estimators': 10}\n",
      "r2: 0.8054, std: 0.022 for {'learning_rate': 0.22999999999999998, 'n_estimators': 30}\n",
      "r2: 0.8081, std: 0.014 for {'learning_rate': 0.22999999999999998, 'n_estimators': 50}\n",
      "r2: 0.8064, std: 0.018 for {'learning_rate': 0.22999999999999998, 'n_estimators': 70}\n",
      "r2: 0.8045, std: 0.022 for {'learning_rate': 0.22999999999999998, 'n_estimators': 90}\n",
      "r2: 0.8013, std: 0.025 for {'learning_rate': 0.22999999999999998, 'n_estimators': 110}\n",
      "r2: 0.8010, std: 0.028 for {'learning_rate': 0.22999999999999998, 'n_estimators': 130}\n",
      "r2: 0.7987, std: 0.030 for {'learning_rate': 0.22999999999999998, 'n_estimators': 150}\n",
      "r2: 0.7972, std: 0.031 for {'learning_rate': 0.22999999999999998, 'n_estimators': 170}\n",
      "r2: 0.7960, std: 0.033 for {'learning_rate': 0.22999999999999998, 'n_estimators': 190}\n",
      "r2: 0.7935, std: 0.035 for {'learning_rate': 0.22999999999999998, 'n_estimators': 210}\n",
      "r2: 0.7915, std: 0.037 for {'learning_rate': 0.22999999999999998, 'n_estimators': 230}\n",
      "r2: 0.7911, std: 0.038 for {'learning_rate': 0.22999999999999998, 'n_estimators': 250}\n",
      "r2: 0.7905, std: 0.038 for {'learning_rate': 0.22999999999999998, 'n_estimators': 270}\n",
      "r2: 0.7895, std: 0.039 for {'learning_rate': 0.22999999999999998, 'n_estimators': 290}\n",
      "r2: 0.7736, std: 0.034 for {'learning_rate': 0.24999999999999997, 'n_estimators': 10}\n",
      "r2: 0.8165, std: 0.018 for {'learning_rate': 0.24999999999999997, 'n_estimators': 30}\n",
      "r2: 0.8155, std: 0.026 for {'learning_rate': 0.24999999999999997, 'n_estimators': 50}\n",
      "r2: 0.8195, std: 0.024 for {'learning_rate': 0.24999999999999997, 'n_estimators': 70}\n",
      "r2: 0.8162, std: 0.024 for {'learning_rate': 0.24999999999999997, 'n_estimators': 90}\n",
      "r2: 0.8128, std: 0.028 for {'learning_rate': 0.24999999999999997, 'n_estimators': 110}\n",
      "r2: 0.8086, std: 0.030 for {'learning_rate': 0.24999999999999997, 'n_estimators': 130}\n",
      "r2: 0.8064, std: 0.029 for {'learning_rate': 0.24999999999999997, 'n_estimators': 150}\n",
      "r2: 0.8046, std: 0.031 for {'learning_rate': 0.24999999999999997, 'n_estimators': 170}\n",
      "r2: 0.8034, std: 0.031 for {'learning_rate': 0.24999999999999997, 'n_estimators': 190}\n",
      "r2: 0.8026, std: 0.032 for {'learning_rate': 0.24999999999999997, 'n_estimators': 210}\n",
      "r2: 0.8016, std: 0.033 for {'learning_rate': 0.24999999999999997, 'n_estimators': 230}\n",
      "r2: 0.8007, std: 0.033 for {'learning_rate': 0.24999999999999997, 'n_estimators': 250}\n",
      "r2: 0.7991, std: 0.034 for {'learning_rate': 0.24999999999999997, 'n_estimators': 270}\n",
      "r2: 0.7979, std: 0.035 for {'learning_rate': 0.24999999999999997, 'n_estimators': 290}\n",
      "r2: 0.7720, std: 0.040 for {'learning_rate': 0.26999999999999996, 'n_estimators': 10}\n",
      "r2: 0.8091, std: 0.022 for {'learning_rate': 0.26999999999999996, 'n_estimators': 30}\n",
      "r2: 0.8173, std: 0.022 for {'learning_rate': 0.26999999999999996, 'n_estimators': 50}\n",
      "r2: 0.8132, std: 0.025 for {'learning_rate': 0.26999999999999996, 'n_estimators': 70}\n",
      "r2: 0.8107, std: 0.030 for {'learning_rate': 0.26999999999999996, 'n_estimators': 90}\n",
      "r2: 0.8062, std: 0.035 for {'learning_rate': 0.26999999999999996, 'n_estimators': 110}\n",
      "r2: 0.8053, std: 0.034 for {'learning_rate': 0.26999999999999996, 'n_estimators': 130}\n",
      "r2: 0.8047, std: 0.036 for {'learning_rate': 0.26999999999999996, 'n_estimators': 150}\n",
      "r2: 0.8022, std: 0.039 for {'learning_rate': 0.26999999999999996, 'n_estimators': 170}\n",
      "r2: 0.8009, std: 0.040 for {'learning_rate': 0.26999999999999996, 'n_estimators': 190}\n",
      "r2: 0.7993, std: 0.041 for {'learning_rate': 0.26999999999999996, 'n_estimators': 210}\n",
      "r2: 0.7976, std: 0.043 for {'learning_rate': 0.26999999999999996, 'n_estimators': 230}\n",
      "r2: 0.7966, std: 0.043 for {'learning_rate': 0.26999999999999996, 'n_estimators': 250}\n",
      "r2: 0.7957, std: 0.045 for {'learning_rate': 0.26999999999999996, 'n_estimators': 270}\n",
      "r2: 0.7955, std: 0.045 for {'learning_rate': 0.26999999999999996, 'n_estimators': 290}\n",
      "r2: 0.7834, std: 0.035 for {'learning_rate': 0.28999999999999998, 'n_estimators': 10}\n",
      "r2: 0.8218, std: 0.016 for {'learning_rate': 0.28999999999999998, 'n_estimators': 30}\n",
      "r2: 0.8207, std: 0.018 for {'learning_rate': 0.28999999999999998, 'n_estimators': 50}\n",
      "r2: 0.8186, std: 0.022 for {'learning_rate': 0.28999999999999998, 'n_estimators': 70}\n",
      "r2: 0.8137, std: 0.024 for {'learning_rate': 0.28999999999999998, 'n_estimators': 90}\n",
      "r2: 0.8108, std: 0.026 for {'learning_rate': 0.28999999999999998, 'n_estimators': 110}\n",
      "r2: 0.8096, std: 0.027 for {'learning_rate': 0.28999999999999998, 'n_estimators': 130}\n",
      "r2: 0.8077, std: 0.029 for {'learning_rate': 0.28999999999999998, 'n_estimators': 150}\n",
      "r2: 0.8058, std: 0.029 for {'learning_rate': 0.28999999999999998, 'n_estimators': 170}\n",
      "r2: 0.8044, std: 0.031 for {'learning_rate': 0.28999999999999998, 'n_estimators': 190}\n",
      "r2: 0.8037, std: 0.032 for {'learning_rate': 0.28999999999999998, 'n_estimators': 210}\n",
      "r2: 0.8022, std: 0.033 for {'learning_rate': 0.28999999999999998, 'n_estimators': 230}\n",
      "r2: 0.8005, std: 0.034 for {'learning_rate': 0.28999999999999998, 'n_estimators': 250}\n",
      "r2: 0.7994, std: 0.034 for {'learning_rate': 0.28999999999999998, 'n_estimators': 270}\n",
      "r2: 0.7985, std: 0.034 for {'learning_rate': 0.28999999999999998, 'n_estimators': 290}\n",
      "\n"
     ]
    }
   ],
   "source": [
    "cv = KFold(n_splits=5, shuffle=True, random_state=38)\n",
    "gbr = GradientBoostingRegressor(random_state=38)\n",
    "\n",
    "######## Range ########\n",
    "n_range = np.linspace(10, 290, 15, dtype=int)\n",
    "learn = np.linspace(0.01, 0.29, 15)\n",
    "######## Param #########\n",
    "tuned_parameters_1 = dict(learning_rate=learn, n_estimators=n_range)\n",
    "\n",
    "\n",
    "clf = GridSearchCV(estimator=gbr, param_grid=tuned_parameters_1, cv=cv, n_jobs=-1)\n",
    "clf.fit(X_train, y_train)\n",
    "\n",
    "print(\"The best parameters are %s with a score of %0.5f, test_score: %0.5f\" % (clf.best_params_, clf.best_score_, clf.score(X_test, y_test)))\n",
    "print()\n",
    "print(clf.best_params_)\n",
    "print()\n",
    "print(\"Grid scores on development set:\")\n",
    "print()\n",
    "means = clf.cv_results_['mean_test_score']\n",
    "stds = clf.cv_results_['std_test_score']\n",
    "for mean, std, params in zip(means, stds, clf.cv_results_['params']):\n",
    "    print(\"r2: %0.4f, std: %0.03f for %r\" % (mean, std, params))\n",
    "print()"
   ]
  },
  {
   "cell_type": "code",
   "execution_count": 1021,
   "metadata": {
    "collapsed": true
   },
   "outputs": [],
   "source": [
    "scores = clf.cv_results_['mean_test_score'].reshape(len(learn), len(n_range))\n",
    "scores_1 = pd.DataFrame(scores, index= learn, columns=n_range)\n",
    "scores_1.to_csv('GBDT_heat.csv')"
   ]
  },
  {
   "cell_type": "code",
   "execution_count": 1022,
   "metadata": {},
   "outputs": [
    {
     "name": "stdout",
     "output_type": "stream",
     "text": [
      "The best parameters are {'max_depth': 4} with a score of 0.82693, test_score: 0.87623\n",
      "\n",
      "{'max_depth': 4}\n",
      "\n",
      "Grid scores on development set:\n",
      "\n",
      "r2: 0.7995, std: 0.020 for {'max_depth': 2}\n",
      "r2: 0.8238, std: 0.020 for {'max_depth': 3}\n",
      "r2: 0.8269, std: 0.015 for {'max_depth': 4}\n",
      "r2: 0.8121, std: 0.035 for {'max_depth': 5}\n",
      "r2: 0.8129, std: 0.015 for {'max_depth': 6}\n",
      "r2: 0.8016, std: 0.027 for {'max_depth': 7}\n",
      "r2: 0.7892, std: 0.021 for {'max_depth': 8}\n",
      "r2: 0.7794, std: 0.037 for {'max_depth': 9}\n",
      "r2: 0.7740, std: 0.031 for {'max_depth': 10}\n",
      "r2: 0.7756, std: 0.033 for {'max_depth': 11}\n",
      "r2: 0.7636, std: 0.032 for {'max_depth': 12}\n",
      "\n"
     ]
    }
   ],
   "source": [
    "gbr_2 = GradientBoostingRegressor(learning_rate=0.12, n_estimators=90,random_state=38)\n",
    "######## Range ########\n",
    "max_depth = np.linspace(2, 12, 11, dtype=int)\n",
    "######## Param #########\n",
    "tuned_parameters_2 = dict(max_depth=max_depth)\n",
    "\n",
    "\n",
    "clf = GridSearchCV(estimator=gbr_2, param_grid=tuned_parameters_2, cv=cv, n_jobs=-1)\n",
    "clf.fit(X_train, y_train)\n",
    "\n",
    "print(\"The best parameters are %s with a score of %0.5f, test_score: %0.5f\" % (clf.best_params_, clf.best_score_, clf.score(X_test, y_test)))\n",
    "print()\n",
    "print(clf.best_params_)\n",
    "print()\n",
    "print(\"Grid scores on development set:\")\n",
    "print()\n",
    "means = clf.cv_results_['mean_test_score']\n",
    "stds = clf.cv_results_['std_test_score']\n",
    "for mean, std, params in zip(means, stds, clf.cv_results_['params']):\n",
    "    print(\"r2: %0.4f, std: %0.03f for %r\" % (mean, std, params))\n",
    "print()"
   ]
  },
  {
   "cell_type": "code",
   "execution_count": 1023,
   "metadata": {},
   "outputs": [],
   "source": [
    "tune_1['max_depth'] = max_depth\n",
    "tune_1['max_depth_mean'] = means\n",
    "tune_1['max_depth_std'] = stds\n",
    "tune_1.to_csv('tune_max_depth.csv', index=False)"
   ]
  },
  {
   "cell_type": "code",
   "execution_count": 1024,
   "metadata": {},
   "outputs": [
    {
     "name": "stdout",
     "output_type": "stream",
     "text": [
      "The best parameters are {'min_samples_split': 6} with a score of 0.83127, test_score: 0.88486\n",
      "\n",
      "{'min_samples_split': 6}\n",
      "\n",
      "Grid scores on development set:\n",
      "\n",
      "r2: 0.8269, std: 0.015 for {'min_samples_split': 2}\n",
      "r2: 0.8289, std: 0.018 for {'min_samples_split': 3}\n",
      "r2: 0.8306, std: 0.016 for {'min_samples_split': 4}\n",
      "r2: 0.8253, std: 0.012 for {'min_samples_split': 5}\n",
      "r2: 0.8313, std: 0.013 for {'min_samples_split': 6}\n",
      "r2: 0.8283, std: 0.010 for {'min_samples_split': 7}\n",
      "r2: 0.8297, std: 0.013 for {'min_samples_split': 8}\n",
      "r2: 0.8251, std: 0.014 for {'min_samples_split': 9}\n",
      "r2: 0.8215, std: 0.015 for {'min_samples_split': 10}\n",
      "r2: 0.8271, std: 0.011 for {'min_samples_split': 11}\n",
      "r2: 0.8277, std: 0.013 for {'min_samples_split': 12}\n",
      "r2: 0.8261, std: 0.013 for {'min_samples_split': 13}\n",
      "r2: 0.8293, std: 0.007 for {'min_samples_split': 14}\n",
      "r2: 0.8279, std: 0.009 for {'min_samples_split': 15}\n",
      "r2: 0.8244, std: 0.019 for {'min_samples_split': 16}\n",
      "r2: 0.8278, std: 0.007 for {'min_samples_split': 17}\n",
      "\n"
     ]
    }
   ],
   "source": [
    "gbr_3 = GradientBoostingRegressor(learning_rate=0.12, n_estimators=90, max_depth=4, random_state=38)\n",
    "######## Range ########\n",
    "min_samples_split = np.linspace(2, 17, 16, dtype=int)\n",
    "######## Param #########\n",
    "tuned_parameters_3 = dict(min_samples_split=min_samples_split)\n",
    "\n",
    "\n",
    "clf = GridSearchCV(estimator=gbr_3, param_grid=tuned_parameters_3, cv=cv, n_jobs=-1)\n",
    "clf.fit(X_train, y_train)\n",
    "\n",
    "print(\"The best parameters are %s with a score of %0.5f, test_score: %0.5f\" % (clf.best_params_, clf.best_score_, clf.score(X_test, y_test)))\n",
    "print()\n",
    "print(clf.best_params_)\n",
    "print()\n",
    "print(\"Grid scores on development set:\")\n",
    "print()\n",
    "means = clf.cv_results_['mean_test_score']\n",
    "stds = clf.cv_results_['std_test_score']\n",
    "for mean, std, params in zip(means, stds, clf.cv_results_['params']):\n",
    "    print(\"r2: %0.4f, std: %0.03f for %r\" % (mean, std, params))\n",
    "print()"
   ]
  },
  {
   "cell_type": "code",
   "execution_count": 1025,
   "metadata": {},
   "outputs": [],
   "source": [
    "tune_2['min_samples_split'] = min_samples_split\n",
    "tune_2['min_samples_split_mean'] = means\n",
    "tune_2['min_samples_split_std'] = stds\n",
    "tune_2.to_csv('tune_min_samples_split.csv', index=False)"
   ]
  },
  {
   "cell_type": "code",
   "execution_count": 1026,
   "metadata": {},
   "outputs": [
    {
     "name": "stdout",
     "output_type": "stream",
     "text": [
      "The best parameters are {'subsample': 0.59999999999999998} with a score of 0.83334, test_score: 0.89950\n",
      "\n",
      "{'subsample': 0.59999999999999998}\n",
      "\n",
      "Grid scores on development set:\n",
      "\n",
      "r2: 0.8055, std: 0.027 for {'subsample': 0.10000000000000001}\n",
      "r2: 0.8094, std: 0.023 for {'subsample': 0.20000000000000001}\n",
      "r2: 0.8220, std: 0.028 for {'subsample': 0.30000000000000004}\n",
      "r2: 0.8304, std: 0.021 for {'subsample': 0.40000000000000002}\n",
      "r2: 0.8248, std: 0.022 for {'subsample': 0.5}\n",
      "r2: 0.8333, std: 0.018 for {'subsample': 0.59999999999999998}\n",
      "r2: 0.8200, std: 0.018 for {'subsample': 0.70000000000000007}\n",
      "r2: 0.8283, std: 0.014 for {'subsample': 0.80000000000000004}\n",
      "r2: 0.8222, std: 0.012 for {'subsample': 0.90000000000000002}\n",
      "r2: 0.8313, std: 0.013 for {'subsample': 1.0}\n",
      "\n"
     ]
    }
   ],
   "source": [
    "gbr_4 = GradientBoostingRegressor(learning_rate=0.12, n_estimators=90, max_depth=4, min_samples_split=6, random_state=38)\n",
    "######## Range ########\n",
    "subsample=np.linspace(0.1, 1.0, 10)\n",
    "######## Param #########\n",
    "tuned_parameters_4 = dict(subsample=subsample)\n",
    "\n",
    "\n",
    "clf = GridSearchCV(estimator=gbr_4, param_grid=tuned_parameters_4, cv=cv, n_jobs=-1)\n",
    "clf.fit(X_train, y_train)\n",
    "\n",
    "print(\"The best parameters are %s with a score of %0.5f, test_score: %0.5f\" % (clf.best_params_, clf.best_score_, clf.score(X_test, y_test)))\n",
    "print()\n",
    "print(clf.best_params_)\n",
    "print()\n",
    "print(\"Grid scores on development set:\")\n",
    "print()\n",
    "means = clf.cv_results_['mean_test_score']\n",
    "stds = clf.cv_results_['std_test_score']\n",
    "for mean, std, params in zip(means, stds, clf.cv_results_['params']):\n",
    "    print(\"r2: %0.4f, std: %0.03f for %r\" % (mean, std, params))\n",
    "print()"
   ]
  },
  {
   "cell_type": "code",
   "execution_count": 1030,
   "metadata": {},
   "outputs": [],
   "source": [
    "tune_3['subsample'] = subsample\n",
    "tune_3['subsample_mean'] = means\n",
    "tune_3['subsample_std'] = stds\n",
    "tune_3.to_csv('tune_subsample.csv', index=False)"
   ]
  },
  {
   "cell_type": "code",
   "execution_count": 1031,
   "metadata": {},
   "outputs": [
    {
     "name": "stdout",
     "output_type": "stream",
     "text": [
      "0.973290151828\n",
      "0.833341781508\n",
      "0.899501388327\n"
     ]
    }
   ],
   "source": [
    "index = clf.best_index_\n",
    "train_score =  clf.cv_results_['mean_train_score'][index]\n",
    "val_score = clf.cv_results_['mean_test_score'][index]\n",
    "test_socre = clf.score(X_test, y_test)\n",
    "print(train_score)\n",
    "print(val_score)\n",
    "print(test_socre)"
   ]
  },
  {
   "cell_type": "code",
   "execution_count": null,
   "metadata": {
    "collapsed": true
   },
   "outputs": [],
   "source": [
    "n_range = np.linspace(10, 290, 15, dtype=int)\n",
    "learn = np.linspace(0.01, 0.29, 15)\n",
    "max_depth = np.linspace(2, 10, 8, dtype=int)"
   ]
  },
  {
   "cell_type": "code",
   "execution_count": 1035,
   "metadata": {},
   "outputs": [
    {
     "name": "stdout",
     "output_type": "stream",
     "text": [
      "0.899501388327\n"
     ]
    },
    {
     "data": {
      "image/png": "[encoded data removed]",
      "text/plain": [
       "<matplotlib.figure.Figure at 0x26bb66d8>"
      ]
     },
     "metadata": {},
     "output_type": "display_data"
    }
   ],
   "source": [
    "y_pred = clf.predict(X_test)\n",
    "score_test = clf.score(X_test, y_test)\n",
    "print(score_test)\n",
    "x0 = np.linspace(-2, 25, 100)\n",
    "plt.plot(x0, x0, 'r')\n",
    "plt.scatter(y_test, y_pred)\n",
    "test_data['pre3'], test_data['err3']= y_pred, absolute(y_test, y_pred)\n",
    "test_data.to_csv('test.csv', index=False)"
   ]
  },
  {
   "cell_type": "code",
   "execution_count": 1045,
   "metadata": {},
   "outputs": [
    {
     "data": {
      "text/plain": [
       "GradientBoostingRegressor(alpha=0.9, criterion='friedman_mse', init=None,\n",
       "             learning_rate=0.12, loss='ls', max_depth=4, max_features=None,\n",
       "             max_leaf_nodes=None, min_impurity_split=1e-07,\n",
       "             min_samples_leaf=1, min_samples_split=6,\n",
       "             min_weight_fraction_leaf=0.0, n_estimators=90, presort='auto',\n",
       "             random_state=38, subsample=0.59999999999999998, verbose=0,\n",
       "             warm_start=False)"
      ]
     },
     "execution_count": 1045,
     "metadata": {},
     "output_type": "execute_result"
    }
   ],
   "source": [
    "clf.best_estimator_"
   ]
  },
  {
   "cell_type": "code",
   "execution_count": 1038,
   "metadata": {},
   "outputs": [
    {
     "data": {
      "image/png": "[encoded data removed]",
      "text/plain": [
       "<matplotlib.figure.Figure at 0x266dacf8>"
      ]
     },
     "metadata": {},
     "output_type": "display_data"
    }
   ],
   "source": [
    "estimator = clf.best_estimator_\n",
    "train_sizes=np.linspace(.1, 1.0,20)\n",
    "cv_1 = KFold(n_splits=6, shuffle=True, random_state=38)\n",
    "learn_curve = pd.DataFrame()\n",
    "train_sizes, train_scores, test_scores = learning_curve(estimator, X, y, cv=cv_1, \n",
    "                                                        train_sizes=train_sizes, scoring='r2', n_jobs=-1)\n",
    "train_scores_mean = np.mean(train_scores, axis=1)\n",
    "train_scores_std = np.std(train_scores, axis=1)\n",
    "test_scores_mean = np.mean(test_scores, axis=1)\n",
    "test_scores_std = np.std(test_scores, axis=1)\n",
    "\n",
    "plt.fill_between(train_sizes, train_scores_mean - train_scores_std,\n",
    "                     train_scores_mean + train_scores_std, alpha=0.1,\n",
    "                     color=\"r\")\n",
    "plt.fill_between(train_sizes, test_scores_mean - test_scores_std,\n",
    "                     test_scores_mean + test_scores_std, alpha=0.1, color=\"g\")\n",
    "plt.plot(train_sizes, train_scores_mean, 'o-', color=\"r\",\n",
    "             label=\"Training score\")\n",
    "plt.plot(train_sizes, test_scores_mean, 'o-', color=\"g\",\n",
    "             label=\"Cross-validation score\")\n",
    "\n",
    "learn_curve['train_sizes'], learn_curve['train_scores'], learn_curve['train_stds'], learn_curve['valid_scores'], learn_curve['valid_stds'] = train_sizes, train_scores_mean, train_scores_std, test_scores_mean, test_scores_std\n",
    "learn_curve.to_csv('learn_curve.csv', index=False)"
   ]
  },
  {
   "cell_type": "code",
   "execution_count": 1071,
   "metadata": {},
   "outputs": [],
   "source": [
    "def mater(CepRs, REs, La=0.0, Co=0.0, TM=0.0, B=6.0):\n",
    "    PrNd = (REs - La) * CepRs\n",
    "    Ce = REs - La - PrNd\n",
    "    Fe = 100.0 - PrNd - Ce - La - Co -TM - B\n",
    "    PrNd_p, La_p, Ce_p = PrNd / REs, La / REs, Ce / REs\n",
    "    one_mater = [REs, PrNd, La, Ce, Fe, Co, TM, B, PrNd_p, La_p, Ce_p]\n",
    "    return one_mater"
   ]
  },
  {
   "cell_type": "code",
   "execution_count": 1072,
   "metadata": {},
   "outputs": [
    {
     "data": {
      "text/html": [
       "<div>\n",
       "<style>\n",
       "    .dataframe thead tr:only-child th {\n",
       "        text-align: right;\n",
       "    }\n",
       "\n",
       "    .dataframe thead th {\n",
       "        text-align: left;\n",
       "    }\n",
       "\n",
       "    .dataframe tbody tr th {\n",
       "        vertical-align: top;\n",
       "    }\n",
       "</style>\n",
       "<table border=\"1\" class=\"dataframe\">\n",
       "  <thead>\n",
       "    <tr style=\"text-align: right;\">\n",
       "      <th></th>\n",
       "      <th>REs</th>\n",
       "      <th>PrNd</th>\n",
       "      <th>La</th>\n",
       "      <th>Ce</th>\n",
       "      <th>Fe</th>\n",
       "      <th>Co</th>\n",
       "      <th>TM</th>\n",
       "      <th>B</th>\n",
       "      <th>PrNd_p</th>\n",
       "      <th>La_p</th>\n",
       "      <th>Ce_p</th>\n",
       "    </tr>\n",
       "  </thead>\n",
       "  <tbody>\n",
       "    <tr>\n",
       "      <th>0</th>\n",
       "      <td>6.0</td>\n",
       "      <td>0.0</td>\n",
       "      <td>0.0</td>\n",
       "      <td>6.0</td>\n",
       "      <td>88.0</td>\n",
       "      <td>0.0</td>\n",
       "      <td>0.0</td>\n",
       "      <td>6.0</td>\n",
       "      <td>0.0</td>\n",
       "      <td>0.0</td>\n",
       "      <td>1.0</td>\n",
       "    </tr>\n",
       "    <tr>\n",
       "      <th>1</th>\n",
       "      <td>6.6</td>\n",
       "      <td>0.0</td>\n",
       "      <td>0.0</td>\n",
       "      <td>6.6</td>\n",
       "      <td>87.4</td>\n",
       "      <td>0.0</td>\n",
       "      <td>0.0</td>\n",
       "      <td>6.0</td>\n",
       "      <td>0.0</td>\n",
       "      <td>0.0</td>\n",
       "      <td>1.0</td>\n",
       "    </tr>\n",
       "  </tbody>\n",
       "</table>\n",
       "</div>"
      ],
      "text/plain": [
       "   REs  PrNd   La   Ce    Fe   Co   TM    B  PrNd_p  La_p  Ce_p\n",
       "0  6.0   0.0  0.0  6.0  88.0  0.0  0.0  6.0     0.0   0.0   1.0\n",
       "1  6.6   0.0  0.0  6.6  87.4  0.0  0.0  6.0     0.0   0.0   1.0"
      ]
     },
     "execution_count": 1072,
     "metadata": {},
     "output_type": "execute_result"
    }
   ],
   "source": [
    "list_1 = []\n",
    "ceprs = np.linspace(0, 1, 21)\n",
    "res = np.linspace(6, 18, 21)\n",
    "\n",
    "for i in ceprs:\n",
    "    for j in res:\n",
    "        list_1.append(mater(i, j))\n",
    "\n",
    "a = np.array(list_1)\n",
    "new = pd.DataFrame(a, columns=['REs', 'PrNd', 'La', 'Ce', 'Fe', 'Co', 'TM', 'B', 'PrNd_p', 'La_p', 'Ce_p'])\n",
    "new.head(2)"
   ]
  },
  {
   "cell_type": "code",
   "execution_count": 616,
   "metadata": {},
   "outputs": [
    {
     "data": {
      "text/plain": [
       "array([  6. ,   6.6,   7.2,   7.8,   8.4,   9. ,   9.6,  10.2,  10.8,\n",
       "        11.4,  12. ,  12.6,  13.2,  13.8,  14.4,  15. ,  15.6,  16.2,\n",
       "        16.8,  17.4,  18. ])"
      ]
     },
     "execution_count": 616,
     "metadata": {},
     "output_type": "execute_result"
    }
   ],
   "source": [
    "a = np.linspace(6, 18, 21)\n",
    "a"
   ]
  },
  {
   "cell_type": "code",
   "execution_count": 1073,
   "metadata": {},
   "outputs": [],
   "source": [
    "new_hcj = clf.predict(new.values).reshape(len(ceprs), len(res))\n",
    "new_2 = pd.DataFrame(new_hcj, index=ceprs, columns=res)\n",
    "new_2.to_csv('preds.csv')\n",
    "#b = new_2 - new_1\n",
    "#b.to_csv('preds.csv')\n",
    "#b"
   ]
  }
 ],
 "metadata": {
  "kernelspec": {
   "display_name": "Python 3",
   "language": "python",
   "name": "python3"
  },
  "language_info": {
   "codemirror_mode": {
    "name": "ipython",
    "version": 3
   },
   "file_extension": ".py",
   "mimetype": "text/x-python",
   "name": "python",
   "nbconvert_exporter": "python",
   "pygments_lexer": "ipython3",
   "version": "3.6.1"
  }
 },
 "nbformat": 4,
 "nbformat_minor": 2
}
