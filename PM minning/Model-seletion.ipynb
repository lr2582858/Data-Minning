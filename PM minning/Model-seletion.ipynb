{
 "cells": [
  {
   "cell_type": "code",
   "execution_count": 1,
   "metadata": {
    "collapsed": true
   },
   "outputs": [],
   "source": [
    "import pandas as pd\n",
    "import numpy as np\n",
    "from sklearn import preprocessing\n",
    "from sklearn.model_selection import cross_val_score, KFold, train_test_split\n",
    "from sklearn.metrics import r2_score, make_scorer\n",
    "from sklearn.linear_model import LinearRegression, Ridge, Lasso, BayesianRidge, HuberRegressor \n",
    "from sklearn.ensemble import BaggingRegressor, RandomForestRegressor, AdaBoostRegressor, GradientBoostingRegressor, ExtraTreesClassifier\n",
    "from sklearn.svm import SVC, SVR\n",
    "from sklearn.tree import DecisionTreeRegressor\n",
    "from sklearn.decomposition import PCA\n",
    "from sklearn.preprocessing import PolynomialFeatures\n",
    "import matplotlib.pyplot as plt\n",
    "%matplotlib inline"
   ]
  },
  {
   "cell_type": "code",
   "execution_count": 2,
   "metadata": {
    "collapsed": true
   },
   "outputs": [],
   "source": [
    "df = pd.read_csv('hcj_data.csv', names=['REs', 'PrNd', 'La', 'Ce', 'Fe', 'Co', 'TM', 'B', 'PrNd_p', 'La_p', 'Ce_p', 'Hcj'])\n",
    "X = df.iloc[:, :-1].values\n",
    "y = df['Hcj'].values\n",
    "X_1 = preprocessing.scale(X)\n",
    "y_1 = preprocessing.scale(y)\n",
    "\n",
    "pca = PCA(n_components=5)\n",
    "X_2 = pca.fit_transform(X)\n",
    "\n",
    "poly = PolynomialFeatures(degree=2, interaction_only=True)\n",
    "X_3 = poly.fit_transform(X_1)"
   ]
  },
  {
   "cell_type": "code",
   "execution_count": 14,
   "metadata": {
    "collapsed": true
   },
   "outputs": [],
   "source": [
    "X_train, X_test, y_train, y_test = train_test_split(X_1, y_1, test_size=0.2, random_state=12)\n",
    "\n",
    "def test_model(clf, x=X_train, y=y_train, randn=27):            \n",
    "    cv = KFold(n_splits=6,shuffle=True, random_state=randn)  \n",
    "    r2 = make_scorer(r2_score)  \n",
    "    r2_val_score = cross_val_score(clf, x, y, cv=cv,scoring=r2, n_jobs=-1)    #'neg_mean_absolute_error'\n",
    "    scores=r2_val_score.mean()\n",
    "    stds=r2_val_score.std()\n",
    "    return np.array([scores, stds]) "
   ]
  },
  {
   "cell_type": "code",
   "execution_count": 34,
   "metadata": {
    "collapsed": true
   },
   "outputs": [],
   "source": [
    "results = {}\n",
    "\n",
    "clf = LinearRegression()  \n",
    "results[\"Linear\"]=test_model(clf)  \n",
    "      \n",
    "clf = Ridge()  \n",
    "results[\"Ridge\"]=test_model(clf)  \n",
    "      \n",
    "clf = BayesianRidge()  \n",
    "results[\"Bayesian Ridge\"]=test_model(clf)  \n",
    "      \n",
    "clf = HuberRegressor()  \n",
    "results[\"Hubber\"]=test_model(clf)  \n",
    "      \n",
    "clf = Lasso(alpha=1e-4)  \n",
    "results[\"Lasso\"]=test_model(clf)  \n",
    "      \n",
    "clf = BaggingRegressor()  \n",
    "results[\"Bagging\"]=test_model(clf)  \n",
    "      \n",
    "clf = RandomForestRegressor()  \n",
    "results[\"RandomForest\"]=test_model(clf)  \n",
    "      \n",
    "clf = AdaBoostRegressor()  \n",
    "results[\"AdaBoost\"]=test_model(clf)  \n",
    "      \n",
    "clf = SVR()  \n",
    "results[\"SVM RBF\"]=test_model(clf)  \n",
    "      \n",
    "clf = SVR(kernel=\"linear\")  \n",
    "results[\"SVM Linear\"]=test_model(clf)  \n",
    "\n",
    "clf = DecisionTreeRegressor()\n",
    "results[\"DecisionTree\"]=test_model(clf) \n",
    "\n",
    "clf = GradientBoostingRegressor()\n",
    "results[\"GradientBoosting\"]=test_model(clf)\n"
   ]
  },
  {
   "cell_type": "code",
   "execution_count": 35,
   "metadata": {},
   "outputs": [
    {
     "data": {
      "text/html": [
       "<div>\n",
       "<style>\n",
       "    .dataframe thead tr:only-child th {\n",
       "        text-align: right;\n",
       "    }\n",
       "\n",
       "    .dataframe thead th {\n",
       "        text-align: left;\n",
       "    }\n",
       "\n",
       "    .dataframe tbody tr th {\n",
       "        vertical-align: top;\n",
       "    }\n",
       "</style>\n",
       "<table border=\"1\" class=\"dataframe\">\n",
       "  <thead>\n",
       "    <tr style=\"text-align: right;\">\n",
       "      <th></th>\n",
       "      <th>R Square Score</th>\n",
       "      <th>Std</th>\n",
       "    </tr>\n",
       "  </thead>\n",
       "  <tbody>\n",
       "    <tr>\n",
       "      <th>SVM Linear</th>\n",
       "      <td>0.684587</td>\n",
       "      <td>0.050324</td>\n",
       "    </tr>\n",
       "    <tr>\n",
       "      <th>Hubber</th>\n",
       "      <td>0.689774</td>\n",
       "      <td>0.038283</td>\n",
       "    </tr>\n",
       "    <tr>\n",
       "      <th>Lasso</th>\n",
       "      <td>0.697477</td>\n",
       "      <td>0.036264</td>\n",
       "    </tr>\n",
       "    <tr>\n",
       "      <th>Bayesian Ridge</th>\n",
       "      <td>0.697688</td>\n",
       "      <td>0.035927</td>\n",
       "    </tr>\n",
       "    <tr>\n",
       "      <th>Ridge</th>\n",
       "      <td>0.697795</td>\n",
       "      <td>0.035975</td>\n",
       "    </tr>\n",
       "    <tr>\n",
       "      <th>Linear</th>\n",
       "      <td>0.699204</td>\n",
       "      <td>0.035143</td>\n",
       "    </tr>\n",
       "    <tr>\n",
       "      <th>AdaBoost</th>\n",
       "      <td>0.766530</td>\n",
       "      <td>0.036906</td>\n",
       "    </tr>\n",
       "    <tr>\n",
       "      <th>DecisionTree</th>\n",
       "      <td>0.776156</td>\n",
       "      <td>0.021244</td>\n",
       "    </tr>\n",
       "    <tr>\n",
       "      <th>SVM RBF</th>\n",
       "      <td>0.785768</td>\n",
       "      <td>0.026007</td>\n",
       "    </tr>\n",
       "    <tr>\n",
       "      <th>Bagging</th>\n",
       "      <td>0.836408</td>\n",
       "      <td>0.020984</td>\n",
       "    </tr>\n",
       "    <tr>\n",
       "      <th>RandomForest</th>\n",
       "      <td>0.837765</td>\n",
       "      <td>0.016870</td>\n",
       "    </tr>\n",
       "    <tr>\n",
       "      <th>GradientBoosting</th>\n",
       "      <td>0.839050</td>\n",
       "      <td>0.020084</td>\n",
       "    </tr>\n",
       "  </tbody>\n",
       "</table>\n",
       "</div>"
      ],
      "text/plain": [
       "                  R Square Score       Std\n",
       "SVM Linear              0.684587  0.050324\n",
       "Hubber                  0.689774  0.038283\n",
       "Lasso                   0.697477  0.036264\n",
       "Bayesian Ridge          0.697688  0.035927\n",
       "Ridge                   0.697795  0.035975\n",
       "Linear                  0.699204  0.035143\n",
       "AdaBoost                0.766530  0.036906\n",
       "DecisionTree            0.776156  0.021244\n",
       "SVM RBF                 0.785768  0.026007\n",
       "Bagging                 0.836408  0.020984\n",
       "RandomForest            0.837765  0.016870\n",
       "GradientBoosting        0.839050  0.020084"
      ]
     },
     "execution_count": 35,
     "metadata": {},
     "output_type": "execute_result"
    },
    {
     "data": {
      "image/png": "[encoded data removed]",
      "text/plain": [
       "<matplotlib.figure.Figure at 0xb7867b8>"
      ]
     },
     "metadata": {},
     "output_type": "display_data"
    }
   ],
   "source": [
    "results1 = pd.DataFrame.from_dict(results,orient='index') \n",
    "results1.columns=['R Square Score', 'Std'] \n",
    "results1 = results1.sort_values(by='R Square Score')\n",
    "#results1['Std'] = results1['Std'] * 10\n",
    "results1.plot(kind=\"bar\",title=\"Model Scores\") \n",
    "axes = plt.gca()  \n",
    "axes.set_ylim([0,1])\n",
    "results1"
   ]
  },
  {
   "cell_type": "code",
   "execution_count": 36,
   "metadata": {
    "collapsed": true
   },
   "outputs": [],
   "source": [
    "results1.to_csv('model_slect.csv')"
   ]
  },
  {
   "cell_type": "code",
   "execution_count": 4,
   "metadata": {},
   "outputs": [
    {
     "name": "stdout",
     "output_type": "stream",
     "text": [
      "[ 0.84168195  0.88303146  0.74117743  0.85949254  0.85606722  0.76838523]\n",
      "0.824972639499\n",
      "0.0516918684576\n"
     ]
    }
   ],
   "source": [
    "clf = GradientBoostingRegressor()\n",
    "cv = KFold(n_splits=6,shuffle=True, random_state=38)  \n",
    "r2 = make_scorer(r2_score)  \n",
    "r2_val_score = cross_val_score(clf, X_train, y_train, cv=cv, scoring='r2',n_jobs=-1) \n",
    "print(r2_val_score)\n",
    "print(r2_val_score.mean())\n",
    "print(r2_val_score.std())"
   ]
  },
  {
   "cell_type": "code",
   "execution_count": 16,
   "metadata": {},
   "outputs": [
    {
     "name": "stdout",
     "output_type": "stream",
     "text": [
      "0 [ 0.82918816  0.06375827]\n",
      "1 [ 0.82417433  0.04694984]\n",
      "2 [ 0.8035708   0.06152806]\n",
      "3 [ 0.81483205  0.03860419]\n",
      "4 [ 0.82885042  0.04300764]\n",
      "5 [ 0.82256186  0.07756167]\n",
      "6 [ 0.82241753  0.03314949]\n",
      "7 [ 0.82864269  0.05812661]\n",
      "8 [ 0.80052692  0.06683712]\n",
      "9 [ 0.8140187   0.03797935]\n",
      "10 [ 0.83403874  0.05646837]\n",
      "11 [ 0.82504706  0.04482744]\n",
      "12 [ 0.80870205  0.06588701]\n",
      "13 [ 0.7973903  0.0867262]\n",
      "14 [ 0.8303175   0.04361441]\n",
      "15 [ 0.81185332  0.03489053]\n",
      "16 [ 0.80775899  0.04574949]\n",
      "17 [ 0.81233693  0.06707377]\n",
      "18 [ 0.81918167  0.04866067]\n",
      "19 [ 0.80421566  0.07605012]\n",
      "20 [ 0.81435429  0.06271554]\n",
      "21 [ 0.80283709  0.0385768 ]\n",
      "22 [ 0.81279138  0.05457233]\n",
      "23 [ 0.81631012  0.05358813]\n",
      "24 [ 0.80114395  0.08773899]\n",
      "25 [ 0.82992004  0.03304734]\n",
      "26 [ 0.78072717  0.0562803 ]\n",
      "27 [ 0.8300834   0.04859513]\n",
      "28 [ 0.82368351  0.07716074]\n",
      "29 [ 0.79570854  0.07631971]\n",
      "30 [ 0.8199677   0.06600977]\n",
      "31 [ 0.81438791  0.08743084]\n",
      "32 [ 0.82350509  0.03074824]\n",
      "33 [ 0.78746889  0.07317003]\n",
      "34 [ 0.81880325  0.04487982]\n",
      "35 [ 0.8070204   0.02993961]\n",
      "36 [ 0.79391522  0.08426369]\n",
      "37 [ 0.82406629  0.06715409]\n",
      "38 [ 0.81378045  0.0508389 ]\n",
      "39 [ 0.81566204  0.06831272]\n",
      "40 [ 0.79472971  0.04125394]\n",
      "41 [ 0.82920705  0.03721709]\n",
      "42 [ 0.77269857  0.11958728]\n",
      "43 [ 0.82290776  0.03719286]\n",
      "44 [ 0.82225619  0.05978016]\n",
      "45 [ 0.80931143  0.03455873]\n",
      "46 [ 0.82171416  0.04829525]\n",
      "47 [ 0.82278931  0.03078933]\n",
      "48 [ 0.81752683  0.04731402]\n",
      "49 [ 0.80800099  0.0824406 ]\n",
      "50 [ 0.82835037  0.03998899]\n"
     ]
    }
   ],
   "source": [
    "for i in range(0, 51):\n",
    "    clf = GradientBoostingRegressor(random_state=38)\n",
    "    socre = test_model(clf, randn=i)\n",
    "    print(i, socre)"
   ]
  }
 ],
 "metadata": {
  "kernelspec": {
   "display_name": "Python 3",
   "language": "python",
   "name": "python3"
  },
  "language_info": {
   "codemirror_mode": {
    "name": "ipython",
    "version": 3
   },
   "file_extension": ".py",
   "mimetype": "text/x-python",
   "name": "python",
   "nbconvert_exporter": "python",
   "pygments_lexer": "ipython3",
   "version": "3.6.1"
  }
 },
 "nbformat": 4,
 "nbformat_minor": 2
}
